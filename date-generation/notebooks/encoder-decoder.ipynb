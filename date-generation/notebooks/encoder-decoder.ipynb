{
 "cells": [
  {
   "cell_type": "code",
   "execution_count": 4,
   "id": "0b32162d",
   "metadata": {},
   "outputs": [],
   "source": [
    "import pandas as pd\n",
    "import torch\n",
    "import torch.nn as nn\n",
    "import torch.nn.functional as F\n",
    "import numpy as np\n",
    "from sklearn.model_selection import train_test_split\n",
    "\n",
    "import torchtext\n",
    "import torch\n",
    "from torchtext.data.utils import get_tokenizer\n",
    "from collections import Counter\n",
    "from torchtext.vocab import vocab\n",
    "from torchtext.utils import download_from_url, extract_archive\n",
    "import io\n",
    "from nltk.tokenize import word_tokenize\n",
    "import re\n",
    "\n",
    "from torch.utils.data import Dataset\n",
    "from torch.nn.utils.rnn import pad_sequence\n",
    "from torch.utils.data import DataLoader\n",
    "from torch import optim"
   ]
  },
  {
   "cell_type": "code",
   "execution_count": 5,
   "id": "2eec645d",
   "metadata": {},
   "outputs": [
    {
     "name": "stderr",
     "output_type": "stream",
     "text": [
      "/home/karm/miniconda3/envs/torch310/lib/python3.11/site-packages/torchtext/data/utils.py:105: UserWarning: Spacy model \"en\" could not be loaded, trying \"en_core_web_sm\" instead\n",
      "  warnings.warn(\n"
     ]
    }
   ],
   "source": [
    "# todos 1) Make generalize tokenizer 2) make preprocessing different so we can use while custom dataset\n",
    "class DateDataset(Dataset):\n",
    "    def __init__(self, DATASET_PATH = \"dataset/Assignment2aDataset.txt\", split=\"train\"):\n",
    "        df = pd.read_csv(DATASET_PATH, names = [\"source\", \"target\"])\n",
    "        df[\"source\"] = df[\"source\"].apply(lambda x: x.strip()[1:-1].replace(\"/\", \"-\"))\n",
    "        df[\"target\"] = df[\"target\"].apply(lambda x: x.strip()[1:-1])\n",
    "        df_train, df_test = train_test_split(df, random_state=42, test_size=0.1)\n",
    "        \n",
    "        # tokenize\n",
    "        en_tokenizer = get_tokenizer('spacy', language='en')   \n",
    "        counter = Counter() # dict of {token: Freq}     \n",
    "        for source in df[\"source\"]:\n",
    "            counter.update(en_tokenizer(source))\n",
    "\n",
    "        for source in df[\"target\"]:\n",
    "            counter.update(en_tokenizer(source))\n",
    "        \n",
    "        voc = vocab(counter, specials=['<unk>', '<pad>', '<bos>', '<eos>'])    \n",
    "        \n",
    "        # create data\n",
    "        if split == \"train\":\n",
    "            self.data_df = df_train\n",
    "        else:\n",
    "            self.data_df = df_test\n",
    "            \n",
    "        data = []\n",
    "        for (source, target) in zip(self.data_df[\"source\"], self.data_df[\"target\"]):\n",
    "            s_tensor_ = torch.tensor([voc[token] for token in en_tokenizer(source)])\n",
    "            t_tensor_ = torch.tensor([voc[token] for token in en_tokenizer(target)])\n",
    "            data.append((s_tensor_, t_tensor_))\n",
    "        \n",
    "        self.voc = voc\n",
    "        self.data = data\n",
    "    \n",
    "    def __len__(self):\n",
    "        return len(self.data)\n",
    "    \n",
    "    def __getitem__(self, idx):\n",
    "        return self.data[idx]\n",
    "    \n"
   ]
  },
  {
   "cell_type": "code",
   "execution_count": 6,
   "id": "6ecb3cdc",
   "metadata": {},
   "outputs": [],
   "source": [
    "BOS_IDX = train_dataset.voc[\"<bos>\"]\n",
    "EOS_IDX = train_dataset.voc[\"<eos>\"]\n",
    "PAD_IDX = train_dataset.voc[\"<pad>\"]\n",
    "\n",
    "def generate_batch(data_batch):\n",
    "    s_batch, t_batch = [], []\n",
    "    for (s_item, t_item) in data_batch:\n",
    "        s_batch.append(torch.cat([torch.tensor([BOS_IDX]), s_item, torch.tensor([EOS_IDX])], dim=0))\n",
    "        t_batch.append(torch.cat([torch.tensor([BOS_IDX]), t_item, torch.tensor([EOS_IDX])], dim=0))\n",
    "        \n",
    "    s_batch = pad_sequence(s_batch, padding_value=PAD_IDX)\n",
    "    return s_batch.T, torch.stack(t_batch)\n",
    "\n"
   ]
  },
  {
   "cell_type": "code",
   "execution_count": 8,
   "id": "6376b689",
   "metadata": {},
   "outputs": [
    {
     "name": "stderr",
     "output_type": "stream",
     "text": [
      "/home/karm/miniconda3/envs/torch310/lib/python3.11/site-packages/torchtext/data/utils.py:105: UserWarning: Spacy model \"en\" could not be loaded, trying \"en_core_web_sm\" instead\n",
      "  warnings.warn(\n"
     ]
    }
   ],
   "source": [
    "train_dataset = DateDataset(split=\"train\")\n",
    "train_dataloader = DataLoader(train_dataset, batch_size=64, collate_fn=generate_batch)"
   ]
  },
  {
   "cell_type": "code",
   "execution_count": 9,
   "id": "90fb0435",
   "metadata": {},
   "outputs": [
    {
     "name": "stderr",
     "output_type": "stream",
     "text": [
      "/home/karm/miniconda3/envs/torch310/lib/python3.11/site-packages/torchtext/data/utils.py:105: UserWarning: Spacy model \"en\" could not be loaded, trying \"en_core_web_sm\" instead\n",
      "  warnings.warn(\n"
     ]
    }
   ],
   "source": [
    "test_dataset = DateDataset(split=\"test\")\n",
    "test_dataloader = DataLoader(test_dataset, batch_size=64, collate_fn=generate_batch)"
   ]
  },
  {
   "cell_type": "code",
   "execution_count": null,
   "id": "961ad902",
   "metadata": {},
   "outputs": [],
   "source": []
  }
 ],
 "metadata": {
  "kernelspec": {
   "display_name": "Python [conda env:torch310]",
   "language": "python",
   "name": "conda-env-torch310-py"
  },
  "language_info": {
   "codemirror_mode": {
    "name": "ipython",
    "version": 3
   },
   "file_extension": ".py",
   "mimetype": "text/x-python",
   "name": "python",
   "nbconvert_exporter": "python",
   "pygments_lexer": "ipython3",
   "version": "3.11.4"
  }
 },
 "nbformat": 4,
 "nbformat_minor": 5
}

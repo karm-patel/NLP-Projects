{
 "cells": [
  {
   "cell_type": "code",
   "execution_count": 4,
   "id": "3e1fae15",
   "metadata": {},
   "outputs": [],
   "source": [
    "import os\n",
    "os.chdir(\"../\")"
   ]
  },
  {
   "cell_type": "code",
   "execution_count": 5,
   "id": "f2175799",
   "metadata": {},
   "outputs": [
    {
     "data": {
      "text/plain": [
       "(device(type='cuda', index=0), device(type='cpu'))"
      ]
     },
     "execution_count": 5,
     "metadata": {},
     "output_type": "execute_result"
    }
   ],
   "source": [
    "import pandas as pd\n",
    "import torch\n",
    "import torch.nn as nn\n",
    "import torch.nn.functional as F\n",
    "import numpy as np\n",
    "from sklearn.model_selection import train_test_split\n",
    "\n",
    "import torchtext\n",
    "import torch\n",
    "from torchtext.data.utils import get_tokenizer\n",
    "from collections import Counter\n",
    "from torchtext.vocab import vocab\n",
    "from torchtext.utils import download_from_url, extract_archive\n",
    "import io\n",
    "from nltk.tokenize import word_tokenize\n",
    "import re\n",
    "\n",
    "from torch.utils.data import Dataset\n",
    "from torch.nn.utils.rnn import pad_sequence\n",
    "from torch.utils.data import DataLoader\n",
    "from torch import optim\n",
    "from tqdm import tqdm\n",
    "\n",
    "import matplotlib.pyplot as plt\n",
    "\n",
    "gpu_device = torch.device(\"cuda:0\")\n",
    "cpu_device = torch.device(\"cpu\")\n",
    "gpu_device, cpu_device"
   ]
  },
  {
   "cell_type": "code",
   "execution_count": 6,
   "id": "67d64917",
   "metadata": {},
   "outputs": [],
   "source": [
    "from dataset.dataloader import DateDataset, get_dataloader\n",
    "from models.enc_dec_attention import EncoderRNN, DecoderRNN\n",
    "from train_utils import asMinutes, timeSince, train_epoch, val_epoch"
   ]
  },
  {
   "cell_type": "code",
   "execution_count": 7,
   "id": "d7c16921",
   "metadata": {},
   "outputs": [
    {
     "name": "stderr",
     "output_type": "stream",
     "text": [
      "/home/karm/miniconda3/envs/torch310/lib/python3.11/site-packages/torchtext/data/utils.py:105: UserWarning: Spacy model \"en\" could not be loaded, trying \"en_core_web_sm\" instead\n",
      "  warnings.warn(\n",
      "/home/karm/miniconda3/envs/torch310/lib/python3.11/site-packages/torchtext/data/utils.py:105: UserWarning: Spacy model \"en\" could not be loaded, trying \"en_core_web_sm\" instead\n",
      "  warnings.warn(\n"
     ]
    }
   ],
   "source": [
    "enc_hidden_size = 256\n",
    "\n",
    "train_dataset, train_dataloader = get_dataloader(split=\"train\", batch_size=18000)\n",
    "test_dataset, test_dataloader = get_dataloader(split=\"test\", batch_size=4000)"
   ]
  },
  {
   "cell_type": "code",
   "execution_count": 8,
   "id": "fda6ce14",
   "metadata": {},
   "outputs": [],
   "source": [
    "vocab_size = len(train_dataset.voc)\n",
    "encoder = EncoderRNN(vocab_size, enc_hidden_size).to(gpu_device)\n",
    "decoder = DecoderRNN(enc_hidden_size, vocab_size).to(gpu_device)"
   ]
  },
  {
   "cell_type": "code",
   "execution_count": 9,
   "id": "3091b56d",
   "metadata": {},
   "outputs": [
    {
     "data": {
      "text/plain": [
       "<All keys matched successfully>"
      ]
     },
     "execution_count": 9,
     "metadata": {},
     "output_type": "execute_result"
    }
   ],
   "source": [
    "encoder.load_state_dict(torch.load(\"ckpts/attntion-0.008-enc.pt\"))\n",
    "decoder.load_state_dict(torch.load(\"ckpts/attntion-0.008-dec.pt\"))"
   ]
  },
  {
   "cell_type": "code",
   "execution_count": 10,
   "id": "ce6e85aa",
   "metadata": {},
   "outputs": [],
   "source": [
    "with torch.no_grad():\n",
    "    input_tensor, target_tensor = next(iter(test_dataloader))\n",
    "    encoder_outputs, encoder_hidden = encoder(input_tensor)\n",
    "    decoder_log_probs, decoder_logits, weights = decoder((target_tensor, encoder_hidden, encoder_outputs))\n",
    "    pred_indices = torch.argmax(decoder_log_probs, dim=-1)"
   ]
  },
  {
   "cell_type": "code",
   "execution_count": 11,
   "id": "800e479a",
   "metadata": {},
   "outputs": [
    {
     "data": {
      "text/plain": [
       "(tensor(0.9608, device='cuda:0'), tensor(0.0392, device='cuda:0'))"
      ]
     },
     "execution_count": 11,
     "metadata": {},
     "output_type": "execute_result"
    }
   ],
   "source": [
    "accuracy = torch.all(target_tensor == pred_indices, dim=1).sum()/len(target_tensor)\n",
    "accuracy, 1-accuracy"
   ]
  },
  {
   "cell_type": "code",
   "execution_count": 12,
   "id": "4fd03967",
   "metadata": {},
   "outputs": [
    {
     "data": {
      "text/plain": [
       "torch.Size([4000, 7])"
      ]
     },
     "execution_count": 12,
     "metadata": {},
     "output_type": "execute_result"
    }
   ],
   "source": [
    "target_tensor.shape"
   ]
  },
  {
   "cell_type": "code",
   "execution_count": 13,
   "id": "5bf01ed2",
   "metadata": {},
   "outputs": [
    {
     "data": {
      "text/plain": [
       "(tensor(0.9942, device='cuda:0'), tensor(0.0058, device='cuda:0'))"
      ]
     },
     "execution_count": 13,
     "metadata": {},
     "output_type": "execute_result"
    }
   ],
   "source": [
    "char_level_accuracy = (target_tensor == pred_indices).sum()/(target_tensor.shape[0]*target_tensor.shape[1])\n",
    "char_level_accuracy, 1 - char_level_accuracy"
   ]
  },
  {
   "cell_type": "code",
   "execution_count": 14,
   "id": "87533439",
   "metadata": {},
   "outputs": [
    {
     "data": {
      "text/plain": [
       "(tensor([  32,   56,   71,   98,  126,  133,  146,  173,  193,  198,  267,  281,\n",
       "          312,  319,  360,  363,  368,  435,  534,  569,  646,  669,  686,  793,\n",
       "          808,  872,  946,  954,  978, 1024, 1034, 1056, 1082, 1117, 1140, 1182,\n",
       "         1193, 1197, 1202, 1210, 1218, 1227, 1287, 1303, 1319, 1323, 1371, 1380,\n",
       "         1405, 1428, 1438, 1445, 1448, 1455, 1639, 1643, 1659, 1692, 1714, 1791,\n",
       "         1869, 1891, 1903, 1921, 1924, 1927, 1928, 1983, 1999, 2013, 2023, 2039,\n",
       "         2065, 2118, 2131, 2156, 2167, 2179, 2207, 2238, 2263, 2300, 2321, 2331,\n",
       "         2339, 2357, 2398, 2401, 2408, 2419, 2456, 2467, 2480, 2484, 2501, 2537,\n",
       "         2547, 2569, 2584, 2590, 2597, 2614, 2624, 2638, 2640, 2659, 2666, 2671,\n",
       "         2699, 2703, 2718, 2725, 2728, 2740, 2743, 2834, 2858, 2885, 2897, 2936,\n",
       "         2957, 2962, 3005, 3025, 3046, 3059, 3091, 3168, 3225, 3267, 3271, 3295,\n",
       "         3329, 3342, 3350, 3365, 3392, 3501, 3550, 3571, 3584, 3645, 3664, 3671,\n",
       "         3704, 3732, 3753, 3756, 3761, 3774, 3821, 3842, 3858, 3861, 3900, 3911,\n",
       "         3981], device='cuda:0'),)"
      ]
     },
     "execution_count": 14,
     "metadata": {},
     "output_type": "execute_result"
    }
   ],
   "source": [
    "mispred_ind = torch.where(torch.all(target_tensor == pred_indices, dim=1) == False)\n",
    "mispred_ind"
   ]
  },
  {
   "cell_type": "code",
   "execution_count": 15,
   "id": "a3caf975",
   "metadata": {},
   "outputs": [],
   "source": [
    "vocab = train_dataset.voc.get_itos()"
   ]
  },
  {
   "cell_type": "code",
   "execution_count": 16,
   "id": "fb1e0769",
   "metadata": {},
   "outputs": [],
   "source": [
    "# selected_indices = mispred_ind[0]\n",
    "selected_indices = range(target_tensor.shape[0])\n",
    "ans = []\n",
    "for ind in selected_indices:\n",
    "    mis_pred_inds = pred_indices[ind]\n",
    "    actual_inds = input_tensor[ind]\n",
    "    target_inds = target_tensor[ind]\n",
    "    \n",
    "    pred = \"\"\n",
    "    for pred_ind in mis_pred_inds:\n",
    "        pred+=vocab[pred_ind]\n",
    "        if vocab[pred_ind] == \"<eos>\":\n",
    "            break\n",
    "            \n",
    "    ip = \"\"\n",
    "    for pred_ind in actual_inds:\n",
    "        ip+=vocab[pred_ind]\n",
    "    \n",
    "    target = \"\"\n",
    "    for pred_ind in target_inds:\n",
    "        target+=vocab[pred_ind]\n",
    "        \n",
    "    ans.append((ip, target, pred))\n",
    "    \n",
    "    # detect label noise\n",
    "#     actual_year = int(actual_pred[5:9])\n",
    "#     try:\n",
    "#         pred_year = int(pred[5:9])\n",
    "#     except:\n",
    "#         print(\"HELLLL\", pred)\n",
    "        \n",
    "#     if np.abs(actual_year - pred_year) == 1:\n",
    "#         print(actual_year, pred_year)\n",
    "#         print(actual, actual_pred, pred)\n",
    "    "
   ]
  },
  {
   "cell_type": "code",
   "execution_count": 17,
   "id": "0d159799",
   "metadata": {},
   "outputs": [
    {
     "data": {
      "text/html": [
       "<div>\n",
       "<style scoped>\n",
       "    .dataframe tbody tr th:only-of-type {\n",
       "        vertical-align: middle;\n",
       "    }\n",
       "\n",
       "    .dataframe tbody tr th {\n",
       "        vertical-align: top;\n",
       "    }\n",
       "\n",
       "    .dataframe thead th {\n",
       "        text-align: right;\n",
       "    }\n",
       "</style>\n",
       "<table border=\"1\" class=\"dataframe\">\n",
       "  <thead>\n",
       "    <tr style=\"text-align: right;\">\n",
       "      <th></th>\n",
       "      <th>input</th>\n",
       "      <th>target</th>\n",
       "      <th>prediction</th>\n",
       "    </tr>\n",
       "  </thead>\n",
       "  <tbody>\n",
       "    <tr>\n",
       "      <th>0</th>\n",
       "      <td>&lt;bos&gt;9september1943&lt;eos&gt;&lt;pad&gt;&lt;pad&gt;</td>\n",
       "      <td>&lt;bos&gt;1943-09-09&lt;eos&gt;</td>\n",
       "      <td>&lt;bos&gt;1943-09-09&lt;eos&gt;</td>\n",
       "    </tr>\n",
       "    <tr>\n",
       "      <th>1</th>\n",
       "      <td>&lt;bos&gt;may231532&lt;eos&gt;&lt;pad&gt;&lt;pad&gt;</td>\n",
       "      <td>&lt;bos&gt;1532-05-23&lt;eos&gt;</td>\n",
       "      <td>&lt;bos&gt;1532-05-23&lt;eos&gt;</td>\n",
       "    </tr>\n",
       "    <tr>\n",
       "      <th>2</th>\n",
       "      <td>&lt;bos&gt;june271908&lt;eos&gt;&lt;pad&gt;&lt;pad&gt;</td>\n",
       "      <td>&lt;bos&gt;1908-06-27&lt;eos&gt;</td>\n",
       "      <td>&lt;bos&gt;1908-06-27&lt;eos&gt;</td>\n",
       "    </tr>\n",
       "    <tr>\n",
       "      <th>3</th>\n",
       "      <td>&lt;bos&gt;july241766&lt;eos&gt;&lt;pad&gt;&lt;pad&gt;</td>\n",
       "      <td>&lt;bos&gt;1766-07-24&lt;eos&gt;</td>\n",
       "      <td>&lt;bos&gt;1766-07-24&lt;eos&gt;</td>\n",
       "    </tr>\n",
       "    <tr>\n",
       "      <th>4</th>\n",
       "      <td>&lt;bos&gt;december262008&lt;eos&gt;&lt;pad&gt;&lt;pad&gt;</td>\n",
       "      <td>&lt;bos&gt;2008-12-26&lt;eos&gt;</td>\n",
       "      <td>&lt;bos&gt;2008-12-26&lt;eos&gt;</td>\n",
       "    </tr>\n",
       "    <tr>\n",
       "      <th>...</th>\n",
       "      <td>...</td>\n",
       "      <td>...</td>\n",
       "      <td>...</td>\n",
       "    </tr>\n",
       "    <tr>\n",
       "      <th>3995</th>\n",
       "      <td>&lt;bos&gt;tuesdayjune41669&lt;eos&gt;&lt;pad&gt;</td>\n",
       "      <td>&lt;bos&gt;1669-06-04&lt;eos&gt;</td>\n",
       "      <td>&lt;bos&gt;1669-06-04&lt;eos&gt;</td>\n",
       "    </tr>\n",
       "    <tr>\n",
       "      <th>3996</th>\n",
       "      <td>&lt;bos&gt;203425august&lt;eos&gt;&lt;pad&gt;&lt;pad&gt;</td>\n",
       "      <td>&lt;bos&gt;2034-08-25&lt;eos&gt;</td>\n",
       "      <td>&lt;bos&gt;2034-08-25&lt;eos&gt;</td>\n",
       "    </tr>\n",
       "    <tr>\n",
       "      <th>3997</th>\n",
       "      <td>&lt;bos&gt;sat198329january&lt;eos&gt;&lt;pad&gt;</td>\n",
       "      <td>&lt;bos&gt;1983-01-29&lt;eos&gt;</td>\n",
       "      <td>&lt;bos&gt;1983-01-29&lt;eos&gt;</td>\n",
       "    </tr>\n",
       "    <tr>\n",
       "      <th>3998</th>\n",
       "      <td>&lt;bos&gt;sundaymarch151857&lt;eos&gt;&lt;pad&gt;</td>\n",
       "      <td>&lt;bos&gt;1857-03-15&lt;eos&gt;</td>\n",
       "      <td>&lt;bos&gt;1857-03-15&lt;eos&gt;</td>\n",
       "    </tr>\n",
       "    <tr>\n",
       "      <th>3999</th>\n",
       "      <td>&lt;bos&gt;16july2030&lt;eos&gt;&lt;pad&gt;&lt;pad&gt;</td>\n",
       "      <td>&lt;bos&gt;2030-07-16&lt;eos&gt;</td>\n",
       "      <td>&lt;bos&gt;2030-07-16&lt;eos&gt;</td>\n",
       "    </tr>\n",
       "  </tbody>\n",
       "</table>\n",
       "<p>4000 rows × 3 columns</p>\n",
       "</div>"
      ],
      "text/plain": [
       "                                   input                target  \\\n",
       "0     <bos>9september1943<eos><pad><pad>  <bos>1943-09-09<eos>   \n",
       "1          <bos>may231532<eos><pad><pad>  <bos>1532-05-23<eos>   \n",
       "2         <bos>june271908<eos><pad><pad>  <bos>1908-06-27<eos>   \n",
       "3         <bos>july241766<eos><pad><pad>  <bos>1766-07-24<eos>   \n",
       "4     <bos>december262008<eos><pad><pad>  <bos>2008-12-26<eos>   \n",
       "...                                  ...                   ...   \n",
       "3995     <bos>tuesdayjune41669<eos><pad>  <bos>1669-06-04<eos>   \n",
       "3996    <bos>203425august<eos><pad><pad>  <bos>2034-08-25<eos>   \n",
       "3997     <bos>sat198329january<eos><pad>  <bos>1983-01-29<eos>   \n",
       "3998    <bos>sundaymarch151857<eos><pad>  <bos>1857-03-15<eos>   \n",
       "3999      <bos>16july2030<eos><pad><pad>  <bos>2030-07-16<eos>   \n",
       "\n",
       "                prediction  \n",
       "0     <bos>1943-09-09<eos>  \n",
       "1     <bos>1532-05-23<eos>  \n",
       "2     <bos>1908-06-27<eos>  \n",
       "3     <bos>1766-07-24<eos>  \n",
       "4     <bos>2008-12-26<eos>  \n",
       "...                    ...  \n",
       "3995  <bos>1669-06-04<eos>  \n",
       "3996  <bos>2034-08-25<eos>  \n",
       "3997  <bos>1983-01-29<eos>  \n",
       "3998  <bos>1857-03-15<eos>  \n",
       "3999  <bos>2030-07-16<eos>  \n",
       "\n",
       "[4000 rows x 3 columns]"
      ]
     },
     "execution_count": 17,
     "metadata": {},
     "output_type": "execute_result"
    }
   ],
   "source": [
    "df = pd.DataFrame(ans, columns=[\"input\", \"target\", \"prediction\"])\n",
    "df"
   ]
  },
  {
   "cell_type": "code",
   "execution_count": 18,
   "id": "e5346321",
   "metadata": {},
   "outputs": [],
   "source": [
    "# df[\"prediction\"].apply(lambda x: list(x[5:-5].replace(\"-\",\"\"))).to_list()"
   ]
  },
  {
   "cell_type": "code",
   "execution_count": 23,
   "id": "d7f885a0",
   "metadata": {},
   "outputs": [
    {
     "data": {
      "text/html": [
       "<div>\n",
       "<style scoped>\n",
       "    .dataframe tbody tr th:only-of-type {\n",
       "        vertical-align: middle;\n",
       "    }\n",
       "\n",
       "    .dataframe tbody tr th {\n",
       "        vertical-align: top;\n",
       "    }\n",
       "\n",
       "    .dataframe thead th {\n",
       "        text-align: right;\n",
       "    }\n",
       "</style>\n",
       "<table border=\"1\" class=\"dataframe\">\n",
       "  <thead>\n",
       "    <tr style=\"text-align: right;\">\n",
       "      <th></th>\n",
       "      <th>0</th>\n",
       "      <th>1</th>\n",
       "      <th>2</th>\n",
       "      <th>3</th>\n",
       "      <th>4</th>\n",
       "      <th>5</th>\n",
       "      <th>6</th>\n",
       "      <th>7</th>\n",
       "      <th>8</th>\n",
       "      <th>9</th>\n",
       "    </tr>\n",
       "  </thead>\n",
       "  <tbody>\n",
       "    <tr>\n",
       "      <th>0</th>\n",
       "      <td>1</td>\n",
       "      <td>9</td>\n",
       "      <td>4</td>\n",
       "      <td>3</td>\n",
       "      <td>-</td>\n",
       "      <td>0</td>\n",
       "      <td>9</td>\n",
       "      <td>-</td>\n",
       "      <td>0</td>\n",
       "      <td>9</td>\n",
       "    </tr>\n",
       "    <tr>\n",
       "      <th>1</th>\n",
       "      <td>1</td>\n",
       "      <td>5</td>\n",
       "      <td>3</td>\n",
       "      <td>2</td>\n",
       "      <td>-</td>\n",
       "      <td>0</td>\n",
       "      <td>5</td>\n",
       "      <td>-</td>\n",
       "      <td>2</td>\n",
       "      <td>3</td>\n",
       "    </tr>\n",
       "    <tr>\n",
       "      <th>2</th>\n",
       "      <td>1</td>\n",
       "      <td>9</td>\n",
       "      <td>0</td>\n",
       "      <td>8</td>\n",
       "      <td>-</td>\n",
       "      <td>0</td>\n",
       "      <td>6</td>\n",
       "      <td>-</td>\n",
       "      <td>2</td>\n",
       "      <td>7</td>\n",
       "    </tr>\n",
       "    <tr>\n",
       "      <th>3</th>\n",
       "      <td>1</td>\n",
       "      <td>7</td>\n",
       "      <td>6</td>\n",
       "      <td>6</td>\n",
       "      <td>-</td>\n",
       "      <td>0</td>\n",
       "      <td>7</td>\n",
       "      <td>-</td>\n",
       "      <td>2</td>\n",
       "      <td>4</td>\n",
       "    </tr>\n",
       "    <tr>\n",
       "      <th>4</th>\n",
       "      <td>2</td>\n",
       "      <td>0</td>\n",
       "      <td>0</td>\n",
       "      <td>8</td>\n",
       "      <td>-</td>\n",
       "      <td>1</td>\n",
       "      <td>2</td>\n",
       "      <td>-</td>\n",
       "      <td>2</td>\n",
       "      <td>6</td>\n",
       "    </tr>\n",
       "    <tr>\n",
       "      <th>...</th>\n",
       "      <td>...</td>\n",
       "      <td>...</td>\n",
       "      <td>...</td>\n",
       "      <td>...</td>\n",
       "      <td>...</td>\n",
       "      <td>...</td>\n",
       "      <td>...</td>\n",
       "      <td>...</td>\n",
       "      <td>...</td>\n",
       "      <td>...</td>\n",
       "    </tr>\n",
       "    <tr>\n",
       "      <th>3995</th>\n",
       "      <td>1</td>\n",
       "      <td>6</td>\n",
       "      <td>6</td>\n",
       "      <td>9</td>\n",
       "      <td>-</td>\n",
       "      <td>0</td>\n",
       "      <td>6</td>\n",
       "      <td>-</td>\n",
       "      <td>0</td>\n",
       "      <td>4</td>\n",
       "    </tr>\n",
       "    <tr>\n",
       "      <th>3996</th>\n",
       "      <td>2</td>\n",
       "      <td>0</td>\n",
       "      <td>3</td>\n",
       "      <td>4</td>\n",
       "      <td>-</td>\n",
       "      <td>0</td>\n",
       "      <td>8</td>\n",
       "      <td>-</td>\n",
       "      <td>2</td>\n",
       "      <td>5</td>\n",
       "    </tr>\n",
       "    <tr>\n",
       "      <th>3997</th>\n",
       "      <td>1</td>\n",
       "      <td>9</td>\n",
       "      <td>8</td>\n",
       "      <td>3</td>\n",
       "      <td>-</td>\n",
       "      <td>0</td>\n",
       "      <td>1</td>\n",
       "      <td>-</td>\n",
       "      <td>2</td>\n",
       "      <td>9</td>\n",
       "    </tr>\n",
       "    <tr>\n",
       "      <th>3998</th>\n",
       "      <td>1</td>\n",
       "      <td>8</td>\n",
       "      <td>5</td>\n",
       "      <td>7</td>\n",
       "      <td>-</td>\n",
       "      <td>0</td>\n",
       "      <td>3</td>\n",
       "      <td>-</td>\n",
       "      <td>1</td>\n",
       "      <td>5</td>\n",
       "    </tr>\n",
       "    <tr>\n",
       "      <th>3999</th>\n",
       "      <td>2</td>\n",
       "      <td>0</td>\n",
       "      <td>3</td>\n",
       "      <td>0</td>\n",
       "      <td>-</td>\n",
       "      <td>0</td>\n",
       "      <td>7</td>\n",
       "      <td>-</td>\n",
       "      <td>1</td>\n",
       "      <td>6</td>\n",
       "    </tr>\n",
       "  </tbody>\n",
       "</table>\n",
       "<p>4000 rows × 10 columns</p>\n",
       "</div>"
      ],
      "text/plain": [
       "      0  1  2  3  4  5  6  7  8  9\n",
       "0     1  9  4  3  -  0  9  -  0  9\n",
       "1     1  5  3  2  -  0  5  -  2  3\n",
       "2     1  9  0  8  -  0  6  -  2  7\n",
       "3     1  7  6  6  -  0  7  -  2  4\n",
       "4     2  0  0  8  -  1  2  -  2  6\n",
       "...  .. .. .. .. .. .. .. .. .. ..\n",
       "3995  1  6  6  9  -  0  6  -  0  4\n",
       "3996  2  0  3  4  -  0  8  -  2  5\n",
       "3997  1  9  8  3  -  0  1  -  2  9\n",
       "3998  1  8  5  7  -  0  3  -  1  5\n",
       "3999  2  0  3  0  -  0  7  -  1  6\n",
       "\n",
       "[4000 rows x 10 columns]"
      ]
     },
     "execution_count": 23,
     "metadata": {},
     "output_type": "execute_result"
    }
   ],
   "source": [
    "# character level analysis\n",
    "df1 = pd.DataFrame(df[\"prediction\"].apply(lambda x: list(x[5:-5])).to_list())\n",
    "df1"
   ]
  },
  {
   "cell_type": "code",
   "execution_count": 24,
   "id": "9a4d09a4",
   "metadata": {},
   "outputs": [
    {
     "data": {
      "text/html": [
       "<div>\n",
       "<style scoped>\n",
       "    .dataframe tbody tr th:only-of-type {\n",
       "        vertical-align: middle;\n",
       "    }\n",
       "\n",
       "    .dataframe tbody tr th {\n",
       "        vertical-align: top;\n",
       "    }\n",
       "\n",
       "    .dataframe thead th {\n",
       "        text-align: right;\n",
       "    }\n",
       "</style>\n",
       "<table border=\"1\" class=\"dataframe\">\n",
       "  <thead>\n",
       "    <tr style=\"text-align: right;\">\n",
       "      <th></th>\n",
       "      <th>0</th>\n",
       "      <th>1</th>\n",
       "      <th>2</th>\n",
       "      <th>3</th>\n",
       "      <th>4</th>\n",
       "      <th>5</th>\n",
       "      <th>6</th>\n",
       "      <th>7</th>\n",
       "      <th>8</th>\n",
       "      <th>9</th>\n",
       "    </tr>\n",
       "  </thead>\n",
       "  <tbody>\n",
       "    <tr>\n",
       "      <th>0</th>\n",
       "      <td>1</td>\n",
       "      <td>9</td>\n",
       "      <td>4</td>\n",
       "      <td>3</td>\n",
       "      <td>-</td>\n",
       "      <td>0</td>\n",
       "      <td>9</td>\n",
       "      <td>-</td>\n",
       "      <td>0</td>\n",
       "      <td>9</td>\n",
       "    </tr>\n",
       "    <tr>\n",
       "      <th>1</th>\n",
       "      <td>1</td>\n",
       "      <td>5</td>\n",
       "      <td>3</td>\n",
       "      <td>2</td>\n",
       "      <td>-</td>\n",
       "      <td>0</td>\n",
       "      <td>5</td>\n",
       "      <td>-</td>\n",
       "      <td>2</td>\n",
       "      <td>3</td>\n",
       "    </tr>\n",
       "    <tr>\n",
       "      <th>2</th>\n",
       "      <td>1</td>\n",
       "      <td>9</td>\n",
       "      <td>0</td>\n",
       "      <td>8</td>\n",
       "      <td>-</td>\n",
       "      <td>0</td>\n",
       "      <td>6</td>\n",
       "      <td>-</td>\n",
       "      <td>2</td>\n",
       "      <td>7</td>\n",
       "    </tr>\n",
       "    <tr>\n",
       "      <th>3</th>\n",
       "      <td>1</td>\n",
       "      <td>7</td>\n",
       "      <td>6</td>\n",
       "      <td>6</td>\n",
       "      <td>-</td>\n",
       "      <td>0</td>\n",
       "      <td>7</td>\n",
       "      <td>-</td>\n",
       "      <td>2</td>\n",
       "      <td>4</td>\n",
       "    </tr>\n",
       "    <tr>\n",
       "      <th>4</th>\n",
       "      <td>2</td>\n",
       "      <td>0</td>\n",
       "      <td>0</td>\n",
       "      <td>8</td>\n",
       "      <td>-</td>\n",
       "      <td>1</td>\n",
       "      <td>2</td>\n",
       "      <td>-</td>\n",
       "      <td>2</td>\n",
       "      <td>6</td>\n",
       "    </tr>\n",
       "    <tr>\n",
       "      <th>...</th>\n",
       "      <td>...</td>\n",
       "      <td>...</td>\n",
       "      <td>...</td>\n",
       "      <td>...</td>\n",
       "      <td>...</td>\n",
       "      <td>...</td>\n",
       "      <td>...</td>\n",
       "      <td>...</td>\n",
       "      <td>...</td>\n",
       "      <td>...</td>\n",
       "    </tr>\n",
       "    <tr>\n",
       "      <th>3995</th>\n",
       "      <td>1</td>\n",
       "      <td>6</td>\n",
       "      <td>6</td>\n",
       "      <td>9</td>\n",
       "      <td>-</td>\n",
       "      <td>0</td>\n",
       "      <td>6</td>\n",
       "      <td>-</td>\n",
       "      <td>0</td>\n",
       "      <td>4</td>\n",
       "    </tr>\n",
       "    <tr>\n",
       "      <th>3996</th>\n",
       "      <td>2</td>\n",
       "      <td>0</td>\n",
       "      <td>3</td>\n",
       "      <td>4</td>\n",
       "      <td>-</td>\n",
       "      <td>0</td>\n",
       "      <td>8</td>\n",
       "      <td>-</td>\n",
       "      <td>2</td>\n",
       "      <td>5</td>\n",
       "    </tr>\n",
       "    <tr>\n",
       "      <th>3997</th>\n",
       "      <td>1</td>\n",
       "      <td>9</td>\n",
       "      <td>8</td>\n",
       "      <td>3</td>\n",
       "      <td>-</td>\n",
       "      <td>0</td>\n",
       "      <td>1</td>\n",
       "      <td>-</td>\n",
       "      <td>2</td>\n",
       "      <td>9</td>\n",
       "    </tr>\n",
       "    <tr>\n",
       "      <th>3998</th>\n",
       "      <td>1</td>\n",
       "      <td>8</td>\n",
       "      <td>5</td>\n",
       "      <td>7</td>\n",
       "      <td>-</td>\n",
       "      <td>0</td>\n",
       "      <td>3</td>\n",
       "      <td>-</td>\n",
       "      <td>1</td>\n",
       "      <td>5</td>\n",
       "    </tr>\n",
       "    <tr>\n",
       "      <th>3999</th>\n",
       "      <td>2</td>\n",
       "      <td>0</td>\n",
       "      <td>3</td>\n",
       "      <td>0</td>\n",
       "      <td>-</td>\n",
       "      <td>0</td>\n",
       "      <td>7</td>\n",
       "      <td>-</td>\n",
       "      <td>1</td>\n",
       "      <td>6</td>\n",
       "    </tr>\n",
       "  </tbody>\n",
       "</table>\n",
       "<p>4000 rows × 10 columns</p>\n",
       "</div>"
      ],
      "text/plain": [
       "      0  1  2  3  4  5  6  7  8  9\n",
       "0     1  9  4  3  -  0  9  -  0  9\n",
       "1     1  5  3  2  -  0  5  -  2  3\n",
       "2     1  9  0  8  -  0  6  -  2  7\n",
       "3     1  7  6  6  -  0  7  -  2  4\n",
       "4     2  0  0  8  -  1  2  -  2  6\n",
       "...  .. .. .. .. .. .. .. .. .. ..\n",
       "3995  1  6  6  9  -  0  6  -  0  4\n",
       "3996  2  0  3  4  -  0  8  -  2  5\n",
       "3997  1  9  8  3  -  0  1  -  2  9\n",
       "3998  1  8  5  7  -  0  3  -  1  5\n",
       "3999  2  0  3  0  -  0  7  -  1  6\n",
       "\n",
       "[4000 rows x 10 columns]"
      ]
     },
     "execution_count": 24,
     "metadata": {},
     "output_type": "execute_result"
    }
   ],
   "source": [
    "df2 = pd.DataFrame(df[\"target\"].apply(lambda x: list(x[5:-5])).to_list())\n",
    "df2"
   ]
  },
  {
   "cell_type": "code",
   "execution_count": 25,
   "id": "4a8d359a",
   "metadata": {},
   "outputs": [],
   "source": [
    "import numpy as np"
   ]
  },
  {
   "cell_type": "code",
   "execution_count": 26,
   "id": "03ae64c9",
   "metadata": {},
   "outputs": [
    {
     "data": {
      "text/plain": [
       "0     38\n",
       "1    128\n",
       "2     28\n",
       "3     38\n",
       "4      0\n",
       "5      2\n",
       "6      4\n",
       "7      0\n",
       "8      4\n",
       "9      6\n",
       "dtype: int64"
      ]
     },
     "execution_count": 26,
     "metadata": {},
     "output_type": "execute_result"
    }
   ],
   "source": [
    "(df1 != df2).sum(axis=0)"
   ]
  },
  {
   "cell_type": "code",
   "execution_count": 116,
   "id": "b09e2b3e",
   "metadata": {},
   "outputs": [
    {
     "data": {
      "text/plain": [
       "(4, 0.00024999999999997247)"
      ]
     },
     "execution_count": 116,
     "metadata": {},
     "output_type": "execute_result"
    }
   ],
   "source": [
    "np.argmax((df1 == df2).sum(axis=0)/len(df)), 1-np.max((df1 == df2).sum(axis=0)/len(df)) # 4, 7 - lowest"
   ]
  },
  {
   "cell_type": "code",
   "execution_count": 117,
   "id": "f4542a6f",
   "metadata": {},
   "outputs": [
    {
     "data": {
      "text/plain": [
       "(1, 0.03374999999999995)"
      ]
     },
     "execution_count": 117,
     "metadata": {},
     "output_type": "execute_result"
    }
   ],
   "source": [
    "np.argmin((df1 == df2).sum(axis=0)/len(df)), 1-np.min((df1 == df2).sum(axis=0)/len(df)) # 1 - highest"
   ]
  },
  {
   "cell_type": "code",
   "execution_count": 37,
   "id": "5d181bd2",
   "metadata": {},
   "outputs": [
    {
     "name": "stdout",
     "output_type": "stream",
     "text": [
      "1627 1626\n",
      "<bos>02-01-1626<eos> <bos>1627-01-02<eos> <bos>1626-02-02<eos>\n",
      "1907 1908\n",
      "<bos>30december1908<eos><pad><pad> <bos>1907-12-30<eos> <bos>1908-12-30<eos>\n",
      "2034 2033\n",
      "<bos>sun20331january<eos><pad> <bos>2034-01-01<eos> <bos>2033-01-01<eos>\n",
      "2019 2020\n",
      "<bos>30dec2020<eos><pad><pad> <bos>2019-12-30<eos> <bos>2020-12-30<eos>\n",
      "HELLLL <bos><bos>-01-17<eos>\n",
      "1669 1670\n",
      "<bos>dec301670<eos><pad><pad> <bos>1669-12-30<eos> <bos>1670-12-30<eos>\n",
      "1930 1931\n",
      "<bos>31dec1931<eos><pad><pad> <bos>1930-12-31<eos> <bos>1931-12-31<eos>\n",
      "1768 1767\n",
      "<bos>17671january<eos><pad><pad> <bos>1768-01-01<eos> <bos>1767-01-01<eos>\n",
      "1545 1546\n",
      "<bos>31-12-1546<eos> <bos>1545-12-31<eos> <bos>1546-12-31<eos>\n",
      "1669 1670\n",
      "<bos>tuesday16703112<eos><pad> <bos>1669-12-31<eos> <bos>1670-12-31<eos>\n",
      "1563 1564\n",
      "<bos>156430december<eos><pad><pad> <bos>1563-12-30<eos> <bos>1564-12-30<eos>\n",
      "1712 1711\n",
      "<bos>2january1711<eos><pad><pad> <bos>1712-01-02<eos> <bos>1711-01-02<eos>\n",
      "2049 2048\n",
      "<bos>fri20481january<eos><pad> <bos>2049-01-01<eos> <bos>2048-01-01<eos>\n",
      "1935 1936\n",
      "<bos>30december1936<eos><pad><pad> <bos>1935-12-30<eos> <bos>1936-12-30<eos>\n",
      "1853 1852\n",
      "<bos>1january1852<eos><pad><pad> <bos>1853-01-01<eos> <bos>1852-01-01<eos>\n",
      "1730 1729\n",
      "<bos>17291january<eos><pad><pad> <bos>1730-01-01<eos> <bos>1729-01-01<eos>\n"
     ]
    }
   ],
   "source": [
    "for i,each in enumerate(zip(pred_indices[mispred_ind], input_tensor[mispred_ind])):\n",
    "    mis_pred_inds, actual_inds = each\n",
    "    target_inds = target_tensor[mispred_ind][i]\n",
    "    pred = \"\"\n",
    "    for pred_ind in mis_pred_inds:\n",
    "        pred+=vocab[pred_ind]\n",
    "        if vocab[pred_ind] == \"<eos>\":\n",
    "            break\n",
    "    actual = \"\"\n",
    "    for pred_ind in actual_inds:\n",
    "        actual+=vocab[pred_ind]\n",
    "    \n",
    "    actual_pred = \"\"\n",
    "    for pred_ind in target_inds:\n",
    "        actual_pred+=vocab[pred_ind]\n",
    "        \n",
    "    \n",
    "    # detect label noise\n",
    "    actual_year = int(actual_pred[5:9])\n",
    "    try:\n",
    "        pred_year = int(pred[5:9])\n",
    "    except:\n",
    "        print(\"HELLLL\", pred)\n",
    "        \n",
    "    if np.abs(actual_year - pred_year) == 1:\n",
    "        print(actual_year, pred_year)\n",
    "        print(actual, actual_pred, pred)\n",
    "        "
   ]
  },
  {
   "cell_type": "code",
   "execution_count": 28,
   "id": "9f40f7cc",
   "metadata": {},
   "outputs": [
    {
     "data": {
      "text/plain": [
       "tensor([[  2,  47,  10,  ...,  10, 494,   3],\n",
       "        [  2,  59,  10,  ...,  10, 168,   3],\n",
       "        [  2, 407,  10,  ...,  10, 448,   3],\n",
       "        ...,\n",
       "        [  2,  34,  10,  ...,  10, 686,   3],\n",
       "        [  2, 167,  10,  ...,  10, 197,   3],\n",
       "        [  2, 119,  10,  ...,  10, 646,   3]], device='cuda:0')"
      ]
     },
     "execution_count": 28,
     "metadata": {},
     "output_type": "execute_result"
    }
   ],
   "source": [
    "# example of misprediction\n",
    "'''\n",
    "<bos>1593-12-06<eos> <bos>6-12-93<eos>\n",
    "<bos>1908-12-30<eos> <bos>30december1908<eos><pad><pad>\n",
    "<bos>1550-09-09<eos> <bos>sun15509april<eos><pad\n",
    "<bos>dec301670<eos><pad><pad> <bos>1669-12-30<eos> <bos>1670-12-30<eos> -- diffes in excatly 1, due to label noise?\n",
    "<bos>30december1936<eos><pad><pad> <bos>1935-12-30<eos> <bos>1936-12-30<eos> -- some label noise also\n",
    "'''"
   ]
  },
  {
   "cell_type": "code",
   "execution_count": null,
   "id": "ea082711",
   "metadata": {},
   "outputs": [],
   "source": []
  }
 ],
 "metadata": {
  "kernelspec": {
   "display_name": "Python [conda env:torch310]",
   "language": "python",
   "name": "conda-env-torch310-py"
  },
  "language_info": {
   "codemirror_mode": {
    "name": "ipython",
    "version": 3
   },
   "file_extension": ".py",
   "mimetype": "text/x-python",
   "name": "python",
   "nbconvert_exporter": "python",
   "pygments_lexer": "ipython3",
   "version": "3.11.4"
  }
 },
 "nbformat": 4,
 "nbformat_minor": 5
}

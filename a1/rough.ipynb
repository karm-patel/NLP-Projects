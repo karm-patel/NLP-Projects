{
 "cells": [
  {
   "cell_type": "code",
   "execution_count": null,
   "id": "93409c52",
   "metadata": {},
   "outputs": [],
   "source": [
    "from embeddings import GloveEmbedding, FastTextEmbedding"
   ]
  },
  {
   "cell_type": "code",
   "execution_count": null,
   "id": "d7cd4aa5",
   "metadata": {},
   "outputs": [],
   "source": []
  },
  {
   "cell_type": "code",
   "execution_count": null,
   "id": "bb2b221d",
   "metadata": {},
   "outputs": [],
   "source": []
  },
  {
   "cell_type": "code",
   "execution_count": 1,
   "id": "6200d61e",
   "metadata": {},
   "outputs": [],
   "source": [
    "import numpy as np\n",
    "\n",
    "from nltk.tokenize import sent_tokenize, word_tokenize\n",
    "import warnings\n",
    "warnings.filterwarnings(action = 'ignore')\n",
    " \n",
    "import gensim\n",
    "from gensim.models import Word2Vec, FastText\n",
    "import pandas as pd\n",
    "from gensim.utils import simple_preprocess\n",
    "from gensim.models import KeyedVectors, FastText\n",
    "from gensim import models"
   ]
  },
  {
   "cell_type": "code",
   "execution_count": 2,
   "id": "b2069d39",
   "metadata": {},
   "outputs": [
    {
     "name": "stderr",
     "output_type": "stream",
     "text": [
      "/home/karm/miniconda3/envs/torch37/lib/python3.7/site-packages/ipykernel_launcher.py:12: DeprecationWarning: Call to deprecated `load_fasttext_format` (use load_facebook_vectors (to use pretrained embeddings) or load_facebook_model (to continue training with the loaded full model, more RAM) instead).\n",
      "  if sys.path[0] == \"\":\n"
     ]
    }
   ],
   "source": [
    "# word2vec_path = \"/home/karm/karm_8T/embeddings/wordtovec/GoogleNews-vectors-negative300.bin.gz\"\n",
    "# w2v_model = models.KeyedVectors.load_word2vec_format(word2vec_path, binary=True)\n",
    "\n",
    "# model_path = \"/home/karm/karm_8T/embeddings/fasttext/wiki-news-300d-1M.vec\"\n",
    "# ft_model = models.KeyedVectors.load_word2vec_format(model_path)\n",
    "# model = ft_model\n",
    "\n",
    "model_path = \"/home/karm/karm_8T/embeddings/fasttext/crawl-300d-2M-subword.bin\"\n",
    "ft_model = FastText.load_fasttext_format(model_path)\n",
    "model = ft_model.wv"
   ]
  },
  {
   "cell_type": "code",
   "execution_count": 3,
   "id": "c6f6f80b",
   "metadata": {},
   "outputs": [
    {
     "data": {
      "text/plain": [
       "0.25400066"
      ]
     },
     "execution_count": 3,
     "metadata": {},
     "output_type": "execute_result"
    }
   ],
   "source": [
    "model.similarity(\"shoes\",\"university\")"
   ]
  },
  {
   "cell_type": "code",
   "execution_count": 4,
   "id": "15c74bda",
   "metadata": {},
   "outputs": [
    {
     "data": {
      "text/plain": [
       "array([-0.00707852, -0.02047246,  0.05881367,  0.02716566,  0.00643048,\n",
       "       -0.0723402 ,  0.01739277,  0.0193181 , -0.03043089, -0.03515377,\n",
       "        0.00977802, -0.00776978,  0.01736763, -0.00835331,  0.0017135 ,\n",
       "       -0.02628151,  0.02115601,  0.01426279,  0.02096461, -0.00731205,\n",
       "       -0.00760224, -0.02462225, -0.00832718,  0.00256635, -0.04368203,\n",
       "        0.0271911 , -0.10531273,  0.0301073 ,  0.01034641, -0.0252064 ,\n",
       "       -0.02112975, -0.00563607, -0.02726468,  0.01614374,  0.01965702,\n",
       "       -0.02949228,  0.02880771,  0.00392867,  0.00592084,  0.01363917,\n",
       "       -0.03160523, -0.05507934, -0.00380419, -0.00375819,  0.02180936,\n",
       "        0.0718902 , -0.00805254, -0.01753271, -0.01452723, -0.00027653,\n",
       "       -0.02285302,  0.00174166,  0.01675   ,  0.00954768, -0.04940724,\n",
       "        0.00881833,  0.00740869, -0.04042297,  0.04220759, -0.02088748,\n",
       "        0.0133517 , -0.02707481, -0.05293711, -0.01553095, -0.03796826,\n",
       "        0.00598069, -0.02043743, -0.02528773,  0.00756693, -0.0306363 ,\n",
       "        0.01785975, -0.00394063, -0.011519  ,  0.0054137 ,  0.00347773,\n",
       "        0.01742016,  0.02239777, -0.00074999, -0.00606391, -0.00663291,\n",
       "       -0.00874777,  0.00579666, -0.02477898,  0.00189979,  0.00107411,\n",
       "        0.01748986,  0.02047819, -0.00467477, -0.01491642, -0.01753746,\n",
       "       -0.0031108 , -0.02563448, -0.0671325 , -0.01271696, -0.00603842,\n",
       "        0.10028712, -0.00329435, -0.00176834,  0.00365239, -0.01540773,\n",
       "       -0.01123991, -0.01011847, -0.01515088,  0.03256944, -0.00899389,\n",
       "       -0.01611616,  0.00224347,  0.01033694, -0.04316049,  0.01018395,\n",
       "        0.01566133, -0.02152452, -0.00700771, -0.00982627,  0.00571342,\n",
       "       -0.03166351, -0.0166149 ,  0.02718757,  0.01752246,  0.00355139,\n",
       "       -0.00933634, -0.00350642,  0.02681293,  0.00606595,  0.03600706,\n",
       "        0.02329083, -0.01975361, -0.00686991,  0.01868323, -0.05864223,\n",
       "       -0.00655961,  0.00410149, -0.03226395,  0.05573915,  0.0165621 ,\n",
       "       -0.01024529,  0.03948083, -0.01133113,  0.01030388,  0.01071027,\n",
       "       -0.01311919,  0.00375466,  0.05355605, -0.05437762,  0.0134132 ,\n",
       "        0.01172683,  0.01791674, -0.01962502,  0.00580493, -0.0096842 ,\n",
       "        0.02875682, -0.00414988,  0.00079506, -0.04723034,  0.00075626,\n",
       "        0.00797027,  0.01542027, -0.00152146,  0.03690007,  0.01312829,\n",
       "       -0.0140206 , -0.01456751, -0.01534549, -0.03583653, -0.03003239,\n",
       "        0.03635835,  0.01610835,  0.01302421,  0.03334457,  0.02522245,\n",
       "        0.02776532, -0.03185569,  0.02012029,  0.03491788,  0.01049139,\n",
       "        0.03249251, -0.03703484,  0.01659407,  0.01654931, -0.01591977,\n",
       "       -0.02140635, -0.00154407,  0.02348013, -0.03542795, -0.02114132,\n",
       "        0.00232426,  0.02240778,  0.0215929 ,  0.01272861,  0.00691805,\n",
       "       -0.03029261,  0.00598623,  0.01364206, -0.00114772,  0.00934082,\n",
       "        0.00997306,  0.02244668, -0.01505375,  0.00856672,  0.0023591 ,\n",
       "       -0.07448525,  0.02837351, -0.00038312, -0.00423291, -0.00023861,\n",
       "        0.02751181,  0.0129453 , -0.00145785, -0.01952898, -0.01110064,\n",
       "       -0.03122584, -0.02256923,  0.06024674, -0.02103281, -0.02913246,\n",
       "       -0.01378584,  0.01293196, -0.01007752, -0.06586783, -0.03563175,\n",
       "        0.00081673, -0.00887284, -0.00495474, -0.01187843,  0.12170219,\n",
       "       -0.03097807, -0.01084556,  0.03089227,  0.01020476,  0.01358512,\n",
       "       -0.02158982,  0.00484341,  0.02890213, -0.00805592,  0.00660056,\n",
       "        0.00626417, -0.02299115, -0.02081623,  0.01445367, -0.02611974,\n",
       "        0.03766512,  0.00881697,  0.00612235, -0.02694737, -0.02479126,\n",
       "        0.00598101, -0.02331189, -0.0691748 ,  0.00077053, -0.02831026,\n",
       "        0.07011364,  0.04504573,  0.01627102,  0.02846909,  0.01145852,\n",
       "        0.01094611, -0.01197063, -0.01882998, -0.00944013, -0.01151803,\n",
       "       -0.01644317, -0.0116349 ,  0.00364616,  0.00187465,  0.01864644,\n",
       "        0.01632957, -0.00556968, -0.02629861,  0.03923394,  0.01719811,\n",
       "        0.0050523 , -0.02315385,  0.01039623, -0.0123847 , -0.00749566,\n",
       "        0.03863774, -0.03416631,  0.03589419, -0.03102218, -0.0173388 ,\n",
       "       -0.04291771,  0.01028837, -0.00186613,  0.00172667, -0.00240123,\n",
       "       -0.01370083,  0.00599014, -0.04537272, -0.03666789,  0.00420978,\n",
       "        0.03651929, -0.0003387 , -0.01377164, -0.0157822 ,  0.03267241,\n",
       "        0.02334554,  0.02924372, -0.00157445, -0.04490875,  0.01298246],\n",
       "      dtype=float32)"
      ]
     },
     "execution_count": 4,
     "metadata": {},
     "output_type": "execute_result"
    }
   ],
   "source": [
    "model[\"alokwlcd\"] #OoV handling"
   ]
  },
  {
   "cell_type": "code",
   "execution_count": 14,
   "id": "b829da82",
   "metadata": {},
   "outputs": [],
   "source": [
    "file_path = \"dataset_splits/ClassificationDataset-train0.xlsx\""
   ]
  },
  {
   "cell_type": "code",
   "execution_count": 15,
   "id": "d492ecc9",
   "metadata": {},
   "outputs": [
    {
     "data": {
      "text/html": [
       "<div>\n",
       "<style scoped>\n",
       "    .dataframe tbody tr th:only-of-type {\n",
       "        vertical-align: middle;\n",
       "    }\n",
       "\n",
       "    .dataframe tbody tr th {\n",
       "        vertical-align: top;\n",
       "    }\n",
       "\n",
       "    .dataframe thead th {\n",
       "        text-align: right;\n",
       "    }\n",
       "</style>\n",
       "<table border=\"1\" class=\"dataframe\">\n",
       "  <thead>\n",
       "    <tr style=\"text-align: right;\">\n",
       "      <th></th>\n",
       "      <th>neutral</th>\n",
       "      <th>According to Gran , the company has no plans to move all production to Russia , although that is where the company is growing .</th>\n",
       "    </tr>\n",
       "  </thead>\n",
       "  <tbody>\n",
       "    <tr>\n",
       "      <th>0</th>\n",
       "      <td>positive</td>\n",
       "      <td>The company booked April-June new orders worth...</td>\n",
       "    </tr>\n",
       "    <tr>\n",
       "      <th>1</th>\n",
       "      <td>neutral</td>\n",
       "      <td>Lemminkainen Infra Oy 's subsidiary Lemminkain...</td>\n",
       "    </tr>\n",
       "    <tr>\n",
       "      <th>2</th>\n",
       "      <td>neutral</td>\n",
       "      <td>GUANGDONG , October 26 , SinoCast -- Nokia Tel...</td>\n",
       "    </tr>\n",
       "    <tr>\n",
       "      <th>3</th>\n",
       "      <td>positive</td>\n",
       "      <td>According to Kesko , the company agreed with t...</td>\n",
       "    </tr>\n",
       "    <tr>\n",
       "      <th>4</th>\n",
       "      <td>positive</td>\n",
       "      <td>New product launches in Finland will more than...</td>\n",
       "    </tr>\n",
       "    <tr>\n",
       "      <th>...</th>\n",
       "      <td>...</td>\n",
       "      <td>...</td>\n",
       "    </tr>\n",
       "    <tr>\n",
       "      <th>2792</th>\n",
       "      <td>neutral</td>\n",
       "      <td>It posted a turnover of 4.5 mln euro $ 6.1 mln...</td>\n",
       "    </tr>\n",
       "    <tr>\n",
       "      <th>2793</th>\n",
       "      <td>neutral</td>\n",
       "      <td>The group posted net sales of 35.3 mln euro $ ...</td>\n",
       "    </tr>\n",
       "    <tr>\n",
       "      <th>2794</th>\n",
       "      <td>neutral</td>\n",
       "      <td>The contract value amounts to about EUR11m , t...</td>\n",
       "    </tr>\n",
       "    <tr>\n",
       "      <th>2795</th>\n",
       "      <td>neutral</td>\n",
       "      <td>Country : ; Germany Sector : Construction-Real...</td>\n",
       "    </tr>\n",
       "    <tr>\n",
       "      <th>2796</th>\n",
       "      <td>neutral</td>\n",
       "      <td>cents Recognize potential partnerships and sup...</td>\n",
       "    </tr>\n",
       "  </tbody>\n",
       "</table>\n",
       "<p>2797 rows × 2 columns</p>\n",
       "</div>"
      ],
      "text/plain": [
       "       neutral  \\\n",
       "0     positive   \n",
       "1      neutral   \n",
       "2      neutral   \n",
       "3     positive   \n",
       "4     positive   \n",
       "...        ...   \n",
       "2792   neutral   \n",
       "2793   neutral   \n",
       "2794   neutral   \n",
       "2795   neutral   \n",
       "2796   neutral   \n",
       "\n",
       "     According to Gran , the company has no plans to move all production to Russia , although that is where the company is growing .  \n",
       "0     The company booked April-June new orders worth...                                                                               \n",
       "1     Lemminkainen Infra Oy 's subsidiary Lemminkain...                                                                               \n",
       "2     GUANGDONG , October 26 , SinoCast -- Nokia Tel...                                                                               \n",
       "3     According to Kesko , the company agreed with t...                                                                               \n",
       "4     New product launches in Finland will more than...                                                                               \n",
       "...                                                 ...                                                                               \n",
       "2792  It posted a turnover of 4.5 mln euro $ 6.1 mln...                                                                               \n",
       "2793  The group posted net sales of 35.3 mln euro $ ...                                                                               \n",
       "2794  The contract value amounts to about EUR11m , t...                                                                               \n",
       "2795  Country : ; Germany Sector : Construction-Real...                                                                               \n",
       "2796  cents Recognize potential partnerships and sup...                                                                               \n",
       "\n",
       "[2797 rows x 2 columns]"
      ]
     },
     "execution_count": 15,
     "metadata": {},
     "output_type": "execute_result"
    }
   ],
   "source": [
    "df = pd.read_excel(file_path)\n",
    "df"
   ]
  },
  {
   "cell_type": "code",
   "execution_count": 18,
   "id": "4ad950cb",
   "metadata": {},
   "outputs": [
    {
     "data": {
      "text/plain": [
       "0"
      ]
     },
     "execution_count": 18,
     "metadata": {},
     "output_type": "execute_result"
    }
   ],
   "source": [
    "list(df[\"neutral\"].unique()).index(\"positive\")"
   ]
  },
  {
   "cell_type": "code",
   "execution_count": 99,
   "id": "3f70e1a1",
   "metadata": {},
   "outputs": [
    {
     "name": "stderr",
     "output_type": "stream",
     "text": [
      "[nltk_data] Downloading package punkt to /home/karm/nltk_data...\n",
      "[nltk_data]   Package punkt is already up-to-date!\n"
     ]
    },
    {
     "data": {
      "text/plain": [
       "True"
      ]
     },
     "execution_count": 99,
     "metadata": {},
     "output_type": "execute_result"
    }
   ],
   "source": [
    "import nltk\n",
    "nltk.download('punkt')"
   ]
  },
  {
   "cell_type": "code",
   "execution_count": 100,
   "id": "677c633d",
   "metadata": {},
   "outputs": [
    {
     "data": {
      "text/plain": [
       "['hi', 'my', 'name', 'is', 'karm', 'your', 'name', 'is', 'trankesh']"
      ]
     },
     "execution_count": 100,
     "metadata": {},
     "output_type": "execute_result"
    }
   ],
   "source": [
    "simple_preprocess(\"hi my name is karm, your name is trankesh\")"
   ]
  },
  {
   "cell_type": "code",
   "execution_count": 101,
   "id": "ee15c1fc",
   "metadata": {},
   "outputs": [
    {
     "data": {
      "text/plain": [
       "['hi my name is karm your name is trankesh']"
      ]
     },
     "execution_count": 101,
     "metadata": {},
     "output_type": "execute_result"
    }
   ],
   "source": [
    "sent_tokenize(\"hi my name is karm your name is trankesh\")"
   ]
  },
  {
   "cell_type": "code",
   "execution_count": 102,
   "id": "2180bffc",
   "metadata": {},
   "outputs": [
    {
     "data": {
      "text/plain": [
       "['hi', 'my', 'name', 'is', 'karm']"
      ]
     },
     "execution_count": 102,
     "metadata": {},
     "output_type": "execute_result"
    }
   ],
   "source": [
    "word_tokenize(\"hi my name is karm\")"
   ]
  },
  {
   "cell_type": "code",
   "execution_count": 103,
   "id": "b911cdac",
   "metadata": {},
   "outputs": [],
   "source": [
    "data = df[\"text\"].apply(lambda x: word_tokenize(x)).to_list()\n",
    "# data = df[\"text\"].apply(lambda x: simple_preprocess(\" \".join(word_tokenize(x)))).to_list()"
   ]
  },
  {
   "cell_type": "code",
   "execution_count": 104,
   "id": "85712109",
   "metadata": {},
   "outputs": [
    {
     "data": {
      "text/plain": [
       "(['Citigroup',\n",
       "  ',',\n",
       "  'Inc',\n",
       "  '(',\n",
       "  'NYSE',\n",
       "  ':',\n",
       "  'C',\n",
       "  ')',\n",
       "  'has',\n",
       "  'announced',\n",
       "  'that',\n",
       "  'its',\n",
       "  'Global',\n",
       "  'Transaction',\n",
       "  'Services',\n",
       "  '(',\n",
       "  'GTS',\n",
       "  ')',\n",
       "  'business',\n",
       "  'has',\n",
       "  'been',\n",
       "  'awarded',\n",
       "  'a',\n",
       "  'new',\n",
       "  'mandate',\n",
       "  'by',\n",
       "  'Finland-based',\n",
       "  'Pohjola',\n",
       "  'Bank',\n",
       "  'Group',\n",
       "  '.'],\n",
       " 'Citigroup , Inc ( NYSE : C ) has announced that its Global Transaction Services ( GTS ) business has been awarded a new mandate by Finland-based Pohjola Bank Group .')"
      ]
     },
     "execution_count": 104,
     "metadata": {},
     "output_type": "execute_result"
    }
   ],
   "source": [
    "data[5], df.iloc[5,1]"
   ]
  },
  {
   "cell_type": "code",
   "execution_count": 108,
   "id": "ad849b4b",
   "metadata": {},
   "outputs": [],
   "source": [
    "for i,sent in enumerate(data):\n",
    "    for word in sent:\n",
    "        model.get_vector(word)\n",
    "    print(i)"
   ]
  },
  {
   "cell_type": "code",
   "execution_count": 110,
   "id": "b7921278",
   "metadata": {},
   "outputs": [
    {
     "data": {
      "text/plain": [
       "(300,)"
      ]
     },
     "execution_count": 110,
     "metadata": {},
     "output_type": "execute_result"
    }
   ],
   "source": [
    "model.get_vector(\"phone\").shape"
   ]
  },
  {
   "cell_type": "markdown",
   "id": "fa594c93",
   "metadata": {},
   "source": [
    "## FNN"
   ]
  },
  {
   "cell_type": "code",
   "execution_count": 131,
   "id": "497868db",
   "metadata": {},
   "outputs": [],
   "source": [
    "import torch\n",
    "import torch.nn as nn\n",
    "import torch.nn.functional as F\n",
    "from tqdm import tqdm\n",
    "import matplotlib.pyplot as plt"
   ]
  },
  {
   "cell_type": "code",
   "execution_count": 132,
   "id": "e7fc9a23",
   "metadata": {},
   "outputs": [],
   "source": [
    "DATASET_NO = 0\n",
    "labels_dict = {'positive':1, 'neutral':0, 'negative':2}\n",
    "get_file_path = lambda split: f\"dataset_splits/ClassificationDataset-{split}{DATASET_NO}.xlsx\""
   ]
  },
  {
   "cell_type": "code",
   "execution_count": 133,
   "id": "fb09fa1e",
   "metadata": {},
   "outputs": [],
   "source": [
    "def get_x_y(split=\"train\"):\n",
    "    file_path  = get_file_path(split)\n",
    "    df = pd.read_excel(file_path, names=[\"label\",\"text\"])\n",
    "    \n",
    "    data = df[\"text\"].apply(lambda x: word_tokenize(x)).to_list()\n",
    "    X_train = torch.tensor(np.array([np.array([model.get_vector(word) for word in sent]).sum(axis=0) for i,sent in enumerate(data)]))\n",
    "    y_train = torch.tensor(df[\"label\"].apply(lambda x: labels_dict[x]))\n",
    "    print(X_train.shape, y_train.shape)\n",
    "    return X_train, y_train"
   ]
  },
  {
   "cell_type": "code",
   "execution_count": 134,
   "id": "ae91a10e",
   "metadata": {},
   "outputs": [
    {
     "name": "stdout",
     "output_type": "stream",
     "text": [
      "torch.Size([2797, 300]) torch.Size([2797])\n",
      "torch.Size([1202, 300]) torch.Size([1202])\n"
     ]
    }
   ],
   "source": [
    "X_train, y_train = get_x_y(\"train\")\n",
    "X_val, y_val = get_x_y(\"valid\")"
   ]
  },
  {
   "cell_type": "code",
   "execution_count": 135,
   "id": "b77d3d0a",
   "metadata": {},
   "outputs": [],
   "source": [
    "class Fnn(nn.Module):\n",
    "    def __init__(self, d=300, n_classes=3):\n",
    "        super(Fnn, self).__init__()\n",
    "        self.layer_1 = nn.Linear(d,128)\n",
    "        self.layer_2 = nn.Linear(128,n_classes)\n",
    "        \n",
    "    def forward(self, x):\n",
    "        # x.shape = (b, 300)\n",
    "        x = self.layer_1(x)\n",
    "        x = F.relu(x)\n",
    "        \n",
    "        x = self.layer_2(x)\n",
    "        x = F.log_softmax(x)\n",
    "        \n",
    "        return x # (b,3)\n",
    "    \n",
    "class DAN2(nn.Module):\n",
    "    def __init__(self, d=300, n_classes=3):\n",
    "        super(DAN2, self).__init__()\n",
    "        self.layer_1 = nn.Linear(d,150)\n",
    "        self.layer_2 = nn.Linear(150, 75)\n",
    "        self.layer_3 = nn.Linear(75, n_classes)\n",
    "        \n",
    "        \n",
    "    def forward(self, x):\n",
    "        # x.shape = (b, 300)\n",
    "        x = self.layer_1(x)\n",
    "        x = F.relu(x)\n",
    "        \n",
    "        x = self.layer_2(x)\n",
    "        x = F.relu(x)\n",
    "        \n",
    "        x = self.layer_3(x)\n",
    "        x = F.log_softmax(x)\n",
    "        \n",
    "        return x # (b,3)"
   ]
  },
  {
   "cell_type": "code",
   "execution_count": 136,
   "id": "2058b9ea",
   "metadata": {},
   "outputs": [
    {
     "data": {
      "text/plain": [
       "True"
      ]
     },
     "execution_count": 136,
     "metadata": {},
     "output_type": "execute_result"
    }
   ],
   "source": [
    "torch.cuda.is_available()"
   ]
  },
  {
   "cell_type": "code",
   "execution_count": 137,
   "id": "f65f2be2",
   "metadata": {},
   "outputs": [],
   "source": [
    "device = torch.device(\"cuda\")\n",
    "X_train, y_train = X_train.to(device), y_train.to(device)\n",
    "X_val, y_val = X_val.to(device), y_val.to(device)"
   ]
  },
  {
   "cell_type": "code",
   "execution_count": 138,
   "id": "429ca3e3",
   "metadata": {},
   "outputs": [],
   "source": [
    "nn_model = Fnn().to(device)\n",
    "# nn_model = DAN2().to(device)"
   ]
  },
  {
   "cell_type": "code",
   "execution_count": 139,
   "id": "8f1225ab",
   "metadata": {},
   "outputs": [
    {
     "name": "stdout",
     "output_type": "stream",
     "text": [
      "tensor([[0.3020, 0.4106, 0.2874],\n",
      "        [0.2910, 0.4090, 0.3001],\n",
      "        [0.2352, 0.4486, 0.3162],\n",
      "        [0.2517, 0.4271, 0.3212]], device='cuda:0', grad_fn=<ExpBackward>)\n",
      "tensor([1, 0, 0, 1], device='cuda:0')\n",
      "Total loss for this batch: 1.093355417251587\n"
     ]
    }
   ],
   "source": [
    "# test\n",
    "loss_fn = torch.nn.CrossEntropyLoss()\n",
    "\n",
    "dummy_outputs = torch.exp(nn_model(X_train[:4,:]))\n",
    "# Represents the correct class among the 10 being tested\n",
    "dummy_labels = y_train[:4]\n",
    "\n",
    "print(dummy_outputs)\n",
    "print(dummy_labels)\n",
    "\n",
    "loss = loss_fn(dummy_outputs, dummy_labels)\n",
    "print('Total loss for this batch: {}'.format(loss.item()))"
   ]
  },
  {
   "cell_type": "code",
   "execution_count": 140,
   "id": "ad24d32f",
   "metadata": {},
   "outputs": [],
   "source": [
    "optimizer = torch.optim.SGD(nn_model.parameters(),lr=0.01,momentum=0.9)"
   ]
  },
  {
   "cell_type": "code",
   "execution_count": 141,
   "id": "0b29af2d",
   "metadata": {},
   "outputs": [],
   "source": [
    "def get_accuracy(logits, y_true):\n",
    "    return (torch.argmax(logits,axis=-1) == y_true).to(torch.float).mean()"
   ]
  },
  {
   "cell_type": "code",
   "execution_count": 142,
   "id": "dd14f7f1",
   "metadata": {},
   "outputs": [
    {
     "name": "stderr",
     "output_type": "stream",
     "text": [
      "EPOCH: 100 LOSS: 0.25935899115989663 Val Accuracy: 0.7495840191841125 Val Loss: 0.7120609283447266: 100%|█| 100/100 [00:03<\n"
     ]
    }
   ],
   "source": [
    "running_loss = 0.\n",
    "last_loss = 0.\n",
    "batch_size = 64\n",
    "\n",
    "train_losses = []\n",
    "val_losses = []\n",
    "val_accs = []\n",
    "EPOCHS = 100\n",
    "\n",
    "tq = tqdm(range(EPOCHS))\n",
    "for epoch, _ in enumerate(tq):\n",
    "    \n",
    "    for i in range(0,X_train.shape[0],batch_size):\n",
    "        # Every data instance is an input + label pair\n",
    "        inputs, labels = X_train[i:i+batch_size, :], y_train[i:i+batch_size]\n",
    "\n",
    "        # Zero your gradients for every batch!\n",
    "        optimizer.zero_grad()\n",
    "\n",
    "        # Make predictions for this batch\n",
    "        outputs = nn_model(inputs)\n",
    "\n",
    "        # Compute the loss and its gradients\n",
    "        loss = loss_fn(outputs, labels)\n",
    "        loss.backward()\n",
    "\n",
    "        # Adjust learning weights\n",
    "        optimizer.step()\n",
    "\n",
    "        # Gather data and report\n",
    "        running_loss += loss.item()\n",
    "        \n",
    "    val_accuracy = get_accuracy(nn_model(X_val), y_val)    \n",
    "    tq.set_description_str(f\"EPOCH: {epoch+1} LOSS: {batch_size*running_loss/X_train.shape[0]} Val Accuracy: {val_accuracy} Val Loss: {loss_fn(nn_model(X_val), y_val)}\")\n",
    "    \n",
    "    if epoch%1 == 0:\n",
    "        train_losses.append(batch_size*running_loss/X_train.shape[0])\n",
    "        val_losses.append(loss_fn(nn_model(X_val), y_val))\n",
    "        val_accs.append(val_accuracy)\n",
    "    \n",
    "    running_loss = 0"
   ]
  },
  {
   "cell_type": "code",
   "execution_count": 143,
   "id": "85c7b707",
   "metadata": {},
   "outputs": [
    {
     "data": {
      "image/png": "[encoded data removed]",
      "text/plain": [
       "<Figure size 640x480 with 1 Axes>"
      ]
     },
     "metadata": {},
     "output_type": "display_data"
    }
   ],
   "source": [
    "plt.plot(torch.tensor(train_losses).to(\"cpu\"), label=\"Train loss\")\n",
    "plt.plot(torch.tensor(val_losses).to(\"cpu\"), label=\"Val loss\")\n",
    "# plt.plot(torch.tensor(val_accs).to(\"cpu\"))\n",
    "plt.legend();"
   ]
  },
  {
   "cell_type": "code",
   "execution_count": 130,
   "id": "b82e9e3d",
   "metadata": {},
   "outputs": [
    {
     "data": {
      "image/png": "[encoded data removed]",
      "text/plain": [
       "<Figure size 640x480 with 1 Axes>"
      ]
     },
     "metadata": {},
     "output_type": "display_data"
    }
   ],
   "source": [
    "plt.plot(torch.tensor(val_accs).to(\"cpu\"));"
   ]
  },
  {
   "cell_type": "code",
   "execution_count": 13,
   "id": "dfcb0dd7",
   "metadata": {},
   "outputs": [
    {
     "name": "stdout",
     "output_type": "stream",
     "text": [
      "[]\n",
      "[]\n"
     ]
    },
    {
     "ename": "ValueError",
     "evalue": "num_samples should be a positive integer value, but got num_samples=0",
     "output_type": "error",
     "traceback": [
      "\u001b[0;31m---------------------------------------------------------------------------\u001b[0m",
      "\u001b[0;31mValueError\u001b[0m                                Traceback (most recent call last)",
      "\u001b[0;32m/tmp/ipykernel_1283628/3953267723.py\u001b[0m in \u001b[0;36m<module>\u001b[0;34m\u001b[0m\n\u001b[1;32m     35\u001b[0m \u001b[0;32mif\u001b[0m \u001b[0m__name__\u001b[0m \u001b[0;34m==\u001b[0m \u001b[0;34m\"__main__\"\u001b[0m\u001b[0;34m:\u001b[0m\u001b[0;34m\u001b[0m\u001b[0;34m\u001b[0m\u001b[0m\n\u001b[1;32m     36\u001b[0m         \u001b[0mdataset\u001b[0m \u001b[0;34m=\u001b[0m \u001b[0mCustomDataset\u001b[0m\u001b[0;34m(\u001b[0m\u001b[0;34m)\u001b[0m\u001b[0;34m\u001b[0m\u001b[0;34m\u001b[0m\u001b[0m\n\u001b[0;32m---> 37\u001b[0;31m         \u001b[0mdata_loader\u001b[0m \u001b[0;34m=\u001b[0m \u001b[0mDataLoader\u001b[0m\u001b[0;34m(\u001b[0m\u001b[0mdataset\u001b[0m\u001b[0;34m,\u001b[0m \u001b[0mbatch_size\u001b[0m\u001b[0;34m=\u001b[0m\u001b[0;36m4\u001b[0m\u001b[0;34m,\u001b[0m \u001b[0mshuffle\u001b[0m\u001b[0;34m=\u001b[0m\u001b[0;32mTrue\u001b[0m\u001b[0;34m)\u001b[0m\u001b[0;34m\u001b[0m\u001b[0;34m\u001b[0m\u001b[0m\n\u001b[0m\u001b[1;32m     38\u001b[0m         \u001b[0;32mfor\u001b[0m \u001b[0mimgs\u001b[0m\u001b[0;34m,\u001b[0m \u001b[0mlabels\u001b[0m \u001b[0;32min\u001b[0m \u001b[0mdata_loader\u001b[0m\u001b[0;34m:\u001b[0m\u001b[0;34m\u001b[0m\u001b[0;34m\u001b[0m\u001b[0m\n\u001b[1;32m     39\u001b[0m                 \u001b[0mprint\u001b[0m\u001b[0;34m(\u001b[0m\u001b[0;34m\"Batch of images has shape: \"\u001b[0m\u001b[0;34m,\u001b[0m\u001b[0mimgs\u001b[0m\u001b[0;34m.\u001b[0m\u001b[0mshape\u001b[0m\u001b[0;34m)\u001b[0m\u001b[0;34m\u001b[0m\u001b[0;34m\u001b[0m\u001b[0m\n",
      "\u001b[0;32m~/miniconda3/envs/torch37/lib/python3.7/site-packages/torch/utils/data/dataloader.py\u001b[0m in \u001b[0;36m__init__\u001b[0;34m(self, dataset, batch_size, shuffle, sampler, batch_sampler, num_workers, collate_fn, pin_memory, drop_last, timeout, worker_init_fn, multiprocessing_context)\u001b[0m\n\u001b[1;32m    211\u001b[0m             \u001b[0;32melse\u001b[0m\u001b[0;34m:\u001b[0m  \u001b[0;31m# map-style\u001b[0m\u001b[0;34m\u001b[0m\u001b[0;34m\u001b[0m\u001b[0m\n\u001b[1;32m    212\u001b[0m                 \u001b[0;32mif\u001b[0m \u001b[0mshuffle\u001b[0m\u001b[0;34m:\u001b[0m\u001b[0;34m\u001b[0m\u001b[0;34m\u001b[0m\u001b[0m\n\u001b[0;32m--> 213\u001b[0;31m                     \u001b[0msampler\u001b[0m \u001b[0;34m=\u001b[0m \u001b[0mRandomSampler\u001b[0m\u001b[0;34m(\u001b[0m\u001b[0mdataset\u001b[0m\u001b[0;34m)\u001b[0m\u001b[0;34m\u001b[0m\u001b[0;34m\u001b[0m\u001b[0m\n\u001b[0m\u001b[1;32m    214\u001b[0m                 \u001b[0;32melse\u001b[0m\u001b[0;34m:\u001b[0m\u001b[0;34m\u001b[0m\u001b[0;34m\u001b[0m\u001b[0m\n\u001b[1;32m    215\u001b[0m                     \u001b[0msampler\u001b[0m \u001b[0;34m=\u001b[0m \u001b[0mSequentialSampler\u001b[0m\u001b[0;34m(\u001b[0m\u001b[0mdataset\u001b[0m\u001b[0;34m)\u001b[0m\u001b[0;34m\u001b[0m\u001b[0;34m\u001b[0m\u001b[0m\n",
      "\u001b[0;32m~/miniconda3/envs/torch37/lib/python3.7/site-packages/torch/utils/data/sampler.py\u001b[0m in \u001b[0;36m__init__\u001b[0;34m(self, data_source, replacement, num_samples)\u001b[0m\n\u001b[1;32m     92\u001b[0m         \u001b[0;32mif\u001b[0m \u001b[0;32mnot\u001b[0m \u001b[0misinstance\u001b[0m\u001b[0;34m(\u001b[0m\u001b[0mself\u001b[0m\u001b[0;34m.\u001b[0m\u001b[0mnum_samples\u001b[0m\u001b[0;34m,\u001b[0m \u001b[0mint\u001b[0m\u001b[0;34m)\u001b[0m \u001b[0;32mor\u001b[0m \u001b[0mself\u001b[0m\u001b[0;34m.\u001b[0m\u001b[0mnum_samples\u001b[0m \u001b[0;34m<=\u001b[0m \u001b[0;36m0\u001b[0m\u001b[0;34m:\u001b[0m\u001b[0;34m\u001b[0m\u001b[0;34m\u001b[0m\u001b[0m\n\u001b[1;32m     93\u001b[0m             raise ValueError(\"num_samples should be a positive integer \"\n\u001b[0;32m---> 94\u001b[0;31m                              \"value, but got num_samples={}\".format(self.num_samples))\n\u001b[0m\u001b[1;32m     95\u001b[0m \u001b[0;34m\u001b[0m\u001b[0m\n\u001b[1;32m     96\u001b[0m     \u001b[0;34m@\u001b[0m\u001b[0mproperty\u001b[0m\u001b[0;34m\u001b[0m\u001b[0;34m\u001b[0m\u001b[0m\n",
      "\u001b[0;31mValueError\u001b[0m: num_samples should be a positive integer value, but got num_samples=0"
     ]
    }
   ],
   "source": [
    "import glob\n",
    "import cv2\n",
    "import numpy as np\n",
    "import torch\n",
    "from torch.utils.data import Dataset, DataLoader\n",
    "\n",
    "\n",
    "class CustomDataset(Dataset):\n",
    "\tdef __init__(self):\n",
    "\t\tself.imgs_path = \"Dog_Cat_Dataset/\"\n",
    "\t\tfile_list = glob.glob(self.imgs_path + \"*\")\n",
    "\t\tprint(file_list)\n",
    "\t\tself.data = []\n",
    "\t\tfor class_path in file_list:\n",
    "\t\t\tclass_name = class_path.split(\"/\")[-1]\n",
    "\t\t\tfor img_path in glob.glob(class_path + \"/*.jpeg\"):\n",
    "\t\t\t\tself.data.append([img_path, class_name])\n",
    "\t\tprint(self.data)\n",
    "\t\tself.class_map = {\"dogs\" : 0, \"cats\": 1}\n",
    "\t\tself.img_dim = (416, 416)\n",
    "\t\n",
    "\tdef __len__(self):\n",
    "\t\treturn len(self.data)\n",
    "\n",
    "\tdef __getitem__(self, idx):\n",
    "\t\timg_path, class_name = self.data[idx]\n",
    "\t\timg = cv2.imread(img_path)\n",
    "\t\timg = cv2.resize(img, self.img_dim)\n",
    "\t\tclass_id = self.class_map[class_name]\n",
    "\t\timg_tensor = torch.from_numpy(img)\n",
    "\t\timg_tensor = img_tensor.permute(2, 0, 1)\n",
    "\t\tclass_id = torch.tensor([class_id])\n",
    "\t\treturn img_tensor, class_id\n",
    "\n",
    "if __name__ == \"__main__\":\n",
    "\tdataset = CustomDataset()\t\t\n",
    "\tdata_loader = DataLoader(dataset, batch_size=4, shuffle=True)\n",
    "\tfor imgs, labels in data_loader:\n",
    "\t\tprint(\"Batch of images has shape: \",imgs.shape)\n",
    "\t\tprint(\"Batch of labels has shape: \", labels.shape)"
   ]
  },
  {
   "cell_type": "code",
   "execution_count": 19,
   "id": "2dc8db71",
   "metadata": {},
   "outputs": [],
   "source": [
    "g.em"
   ]
  },
  {
   "cell_type": "code",
   "execution_count": 20,
   "id": "d67ba077",
   "metadata": {},
   "outputs": [
    {
     "ename": "TypeError",
     "evalue": "__init__() missing 1 required positional argument: 'emb_model'",
     "output_type": "error",
     "traceback": [
      "\u001b[0;31m---------------------------------------------------------------------------\u001b[0m",
      "\u001b[0;31mTypeError\u001b[0m                                 Traceback (most recent call last)",
      "\u001b[0;32m/tmp/ipykernel_1283628/1563566018.py\u001b[0m in \u001b[0;36m<module>\u001b[0;34m\u001b[0m\n\u001b[0;32m----> 1\u001b[0;31m \u001b[0mdataset\u001b[0m \u001b[0;34m=\u001b[0m \u001b[0mClassificationDataset\u001b[0m\u001b[0;34m(\u001b[0m\u001b[0;34m)\u001b[0m\u001b[0;34m\u001b[0m\u001b[0;34m\u001b[0m\u001b[0m\n\u001b[0m",
      "\u001b[0;31mTypeError\u001b[0m: __init__() missing 1 required positional argument: 'emb_model'"
     ]
    }
   ],
   "source": []
  },
  {
   "cell_type": "code",
   "execution_count": null,
   "id": "104e756d",
   "metadata": {},
   "outputs": [],
   "source": []
  }
 ],
 "metadata": {
  "kernelspec": {
   "display_name": "Python [conda env:torch37]",
   "language": "python",
   "name": "conda-env-torch37-py"
  },
  "language_info": {
   "codemirror_mode": {
    "name": "ipython",
    "version": 3
   },
   "file_extension": ".py",
   "mimetype": "text/x-python",
   "name": "python",
   "nbconvert_exporter": "python",
   "pygments_lexer": "ipython3",
   "version": "3.7.16"
  }
 },
 "nbformat": 4,
 "nbformat_minor": 5
}

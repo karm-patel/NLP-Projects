{
 "cells": [
  {
   "cell_type": "code",
   "execution_count": 28,
   "id": "ebc9a893",
   "metadata": {},
   "outputs": [],
   "source": [
    "import transformers\n",
    "from transformers import AutoTokenizer # what is auto?\n",
    "import pandas as pd\n",
    "import os\n",
    "data_dir = \"/data3/home/karmpatel/dlnlp_assignments/sentiment-classification/dataset\"\n",
    "# f_name = \"ClassificationDataset-train0.xlsx\"\n",
    "f_name = \"ClassificationDataset-train0.xlsx\""
   ]
  },
  {
   "cell_type": "code",
   "execution_count": 29,
   "id": "1329fda4",
   "metadata": {},
   "outputs": [
    {
     "data": {
      "text/html": [
       "<div>\n",
       "<style scoped>\n",
       "    .dataframe tbody tr th:only-of-type {\n",
       "        vertical-align: middle;\n",
       "    }\n",
       "\n",
       "    .dataframe tbody tr th {\n",
       "        vertical-align: top;\n",
       "    }\n",
       "\n",
       "    .dataframe thead th {\n",
       "        text-align: right;\n",
       "    }\n",
       "</style>\n",
       "<table border=\"1\" class=\"dataframe\">\n",
       "  <thead>\n",
       "    <tr style=\"text-align: right;\">\n",
       "      <th></th>\n",
       "      <th>label</th>\n",
       "      <th>text</th>\n",
       "    </tr>\n",
       "  </thead>\n",
       "  <tbody>\n",
       "    <tr>\n",
       "      <th>0</th>\n",
       "      <td>positive</td>\n",
       "      <td>the company booked april-june new orders worth...</td>\n",
       "    </tr>\n",
       "    <tr>\n",
       "      <th>1</th>\n",
       "      <td>neutral</td>\n",
       "      <td>lemminkainen infra oy 's subsidiary lemminkain...</td>\n",
       "    </tr>\n",
       "    <tr>\n",
       "      <th>2</th>\n",
       "      <td>neutral</td>\n",
       "      <td>guangdong , october 26 , sinocast -- nokia tel...</td>\n",
       "    </tr>\n",
       "    <tr>\n",
       "      <th>3</th>\n",
       "      <td>positive</td>\n",
       "      <td>according to kesko , the company agreed with t...</td>\n",
       "    </tr>\n",
       "    <tr>\n",
       "      <th>4</th>\n",
       "      <td>positive</td>\n",
       "      <td>new product launches in finland will more than...</td>\n",
       "    </tr>\n",
       "    <tr>\n",
       "      <th>...</th>\n",
       "      <td>...</td>\n",
       "      <td>...</td>\n",
       "    </tr>\n",
       "    <tr>\n",
       "      <th>2792</th>\n",
       "      <td>neutral</td>\n",
       "      <td>it posted a turnover of 4.5 mln euro $ 6.1 mln...</td>\n",
       "    </tr>\n",
       "    <tr>\n",
       "      <th>2793</th>\n",
       "      <td>neutral</td>\n",
       "      <td>the group posted net sales of 35.3 mln euro $ ...</td>\n",
       "    </tr>\n",
       "    <tr>\n",
       "      <th>2794</th>\n",
       "      <td>neutral</td>\n",
       "      <td>the contract value amounts to about eur11m , t...</td>\n",
       "    </tr>\n",
       "    <tr>\n",
       "      <th>2795</th>\n",
       "      <td>neutral</td>\n",
       "      <td>country : ; germany sector : construction-real...</td>\n",
       "    </tr>\n",
       "    <tr>\n",
       "      <th>2796</th>\n",
       "      <td>neutral</td>\n",
       "      <td>cents recognize potential partnerships and sup...</td>\n",
       "    </tr>\n",
       "  </tbody>\n",
       "</table>\n",
       "<p>2797 rows × 2 columns</p>\n",
       "</div>"
      ],
      "text/plain": [
       "         label                                               text\n",
       "0     positive  the company booked april-june new orders worth...\n",
       "1      neutral  lemminkainen infra oy 's subsidiary lemminkain...\n",
       "2      neutral  guangdong , october 26 , sinocast -- nokia tel...\n",
       "3     positive  according to kesko , the company agreed with t...\n",
       "4     positive  new product launches in finland will more than...\n",
       "...        ...                                                ...\n",
       "2792   neutral  it posted a turnover of 4.5 mln euro $ 6.1 mln...\n",
       "2793   neutral  the group posted net sales of 35.3 mln euro $ ...\n",
       "2794   neutral  the contract value amounts to about eur11m , t...\n",
       "2795   neutral  country : ; germany sector : construction-real...\n",
       "2796   neutral  cents recognize potential partnerships and sup...\n",
       "\n",
       "[2797 rows x 2 columns]"
      ]
     },
     "execution_count": 29,
     "metadata": {},
     "output_type": "execute_result"
    }
   ],
   "source": [
    "df = pd.read_excel(os.path.join(data_dir, f_name), names=[\"label\",\"text\"])\n",
    "df[\"text\"] = df[\"text\"].apply(lambda x: x.lower())\n",
    "df"
   ]
  },
  {
   "cell_type": "code",
   "execution_count": 31,
   "id": "cf381011",
   "metadata": {},
   "outputs": [],
   "source": [
    "df[\"text\"].to_csv(\"train.csv\")"
   ]
  },
  {
   "cell_type": "code",
   "execution_count": 6,
   "id": "a840a3bf",
   "metadata": {},
   "outputs": [
    {
     "name": "stderr",
     "output_type": "stream",
     "text": [
      "Downloading (…)okenizer_config.json: 100%|█████████████████████████████████████████| 28.0/28.0 [00:00<00:00, 160kB/s]\n",
      "Downloading (…)lve/main/config.json: 100%|██████████████████████████████████████████| 570/570 [00:00<00:00, 3.12MB/s]\n",
      "Downloading (…)solve/main/vocab.txt: 100%|█████████████████████████████████████████| 232k/232k [00:00<00:00, 967kB/s]\n",
      "Downloading (…)/main/tokenizer.json: 100%|████████████████████████████████████████| 466k/466k [00:00<00:00, 2.15MB/s]\n"
     ]
    },
    {
     "data": {
      "text/plain": [
       "BertTokenizerFast(name_or_path='bert-base-uncased', vocab_size=30522, model_max_length=512, is_fast=True, padding_side='right', truncation_side='right', special_tokens={'unk_token': '[UNK]', 'sep_token': '[SEP]', 'pad_token': '[PAD]', 'cls_token': '[CLS]', 'mask_token': '[MASK]'}, clean_up_tokenization_spaces=True)"
      ]
     },
     "execution_count": 6,
     "metadata": {},
     "output_type": "execute_result"
    }
   ],
   "source": [
    "tokenizer = AutoTokenizer.from_pretrained(\"bert-base-uncased\")\n",
    "tokenizer"
   ]
  },
  {
   "cell_type": "code",
   "execution_count": 12,
   "id": "cb08cf29",
   "metadata": {},
   "outputs": [
    {
     "data": {
      "text/plain": [
       "[101, 2026, 2171, 2003, 10556, 10867, 102]"
      ]
     },
     "execution_count": 12,
     "metadata": {},
     "output_type": "execute_result"
    }
   ],
   "source": [
    "ids = tokenizer.encode(\"My name is karm\")\n",
    "ids"
   ]
  },
  {
   "cell_type": "code",
   "execution_count": 13,
   "id": "e337f204",
   "metadata": {
    "scrolled": false
   },
   "outputs": [
    {
     "data": {
      "text/plain": [
       "['[CLS]', 'my', 'name', 'is', 'ka', '##rm', '[SEP]']"
      ]
     },
     "execution_count": 13,
     "metadata": {},
     "output_type": "execute_result"
    }
   ],
   "source": [
    "tokenizer.convert_ids_to_tokens(ids)"
   ]
  },
  {
   "cell_type": "code",
   "execution_count": null,
   "id": "e6696b36",
   "metadata": {},
   "outputs": [],
   "source": [
    "tokenizer.encode(\"My name is karm\")list(map())"
   ]
  },
  {
   "cell_type": "code",
   "execution_count": 5,
   "id": "d8ca35d2",
   "metadata": {},
   "outputs": [],
   "source": [
    "from tokenizers import Tokenizer\n",
    "from tokenizers.models import BPE, WordPiece\n",
    "tokenizer = Tokenizer(WordPiece(unk_token=\"[UNK]\"))\n",
    "\n",
    "from tokenizers.trainers import BpeTrainer, WordPieceTrainer\n",
    "trainer = WordPieceTrainer(min_frequency=2, special_tokens=[\"[UNK]\", \"[CLS]\", \"[SEP]\", \"[PAD]\", \"[MASK]\"])"
   ]
  },
  {
   "cell_type": "code",
   "execution_count": 6,
   "id": "63e41abc",
   "metadata": {},
   "outputs": [],
   "source": [
    "from tokenizers.pre_tokenizers import Whitespace\n",
    "tokenizer.pre_tokenizer = Whitespace()"
   ]
  },
  {
   "cell_type": "code",
   "execution_count": 7,
   "id": "914e82dc",
   "metadata": {},
   "outputs": [
    {
     "name": "stdout",
     "output_type": "stream",
     "text": [
      "\n",
      "\n",
      "\n"
     ]
    }
   ],
   "source": [
    "files = [f\"test.csv\"]\n",
    "tokenizer.train(files, trainer)"
   ]
  },
  {
   "cell_type": "code",
   "execution_count": 8,
   "id": "35b047f3",
   "metadata": {},
   "outputs": [],
   "source": [
    "tokenizer.save(\"test.json\")"
   ]
  },
  {
   "cell_type": "code",
   "execution_count": 9,
   "id": "23ef106d",
   "metadata": {},
   "outputs": [],
   "source": [
    "tokenizer = Tokenizer.from_file(\"test.json\")"
   ]
  },
  {
   "cell_type": "code",
   "execution_count": 10,
   "id": "5f98cf88",
   "metadata": {},
   "outputs": [
    {
     "data": {
      "text/plain": [
       "Encoding(num_tokens=11, attributes=[ids, type_ids, tokens, offsets, attention_mask, special_tokens_mask, overflowing])"
      ]
     },
     "execution_count": 10,
     "metadata": {},
     "output_type": "execute_result"
    }
   ],
   "source": [
    "output = tokenizer.encode(\"Nishit and Karm are doing assignments\")\n",
    "output"
   ]
  },
  {
   "cell_type": "code",
   "execution_count": 11,
   "id": "a405ebd6",
   "metadata": {},
   "outputs": [
    {
     "data": {
      "text/plain": [
       "['Ni',\n",
       " '##sh',\n",
       " '##it',\n",
       " 'and',\n",
       " 'Kar',\n",
       " '##m',\n",
       " 'are',\n",
       " 'do',\n",
       " '##ing',\n",
       " 'assignment',\n",
       " '##s']"
      ]
     },
     "execution_count": 11,
     "metadata": {},
     "output_type": "execute_result"
    }
   ],
   "source": [
    "output.tokens"
   ]
  },
  {
   "cell_type": "code",
   "execution_count": 12,
   "id": "4363d334",
   "metadata": {},
   "outputs": [
    {
     "data": {
      "text/plain": [
       "[6382, 2934, 190, 194, 2885, 98, 335, 924, 188, 7867, 101]"
      ]
     },
     "execution_count": 12,
     "metadata": {},
     "output_type": "execute_result"
    }
   ],
   "source": [
    "output.ids"
   ]
  },
  {
   "cell_type": "code",
   "execution_count": 13,
   "id": "33ac28b2",
   "metadata": {},
   "outputs": [
    {
     "data": {
      "text/plain": [
       "8311"
      ]
     },
     "execution_count": 13,
     "metadata": {},
     "output_type": "execute_result"
    }
   ],
   "source": [
    "tokenizer.get_vocab_size()"
   ]
  },
  {
   "cell_type": "code",
   "execution_count": 14,
   "id": "f329ccff",
   "metadata": {},
   "outputs": [],
   "source": [
    "from torch.utils.data import DataLoader"
   ]
  },
  {
   "cell_type": "code",
   "execution_count": null,
   "id": "7cc424b8",
   "metadata": {},
   "outputs": [],
   "source": []
  }
 ],
 "metadata": {
  "kernelspec": {
   "display_name": "Python [conda env:torch310]",
   "language": "python",
   "name": "conda-env-torch310-py"
  },
  "language_info": {
   "codemirror_mode": {
    "name": "ipython",
    "version": 3
   },
   "file_extension": ".py",
   "mimetype": "text/x-python",
   "name": "python",
   "nbconvert_exporter": "python",
   "pygments_lexer": "ipython3",
   "version": "3.11.5"
  }
 },
 "nbformat": 4,
 "nbformat_minor": 5
}

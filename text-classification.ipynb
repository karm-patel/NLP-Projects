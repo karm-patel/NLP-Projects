{
 "cells": [
  {
   "cell_type": "code",
   "execution_count": 3,
   "id": "851db02a",
   "metadata": {},
   "outputs": [],
   "source": [
    "from tokenizers import Tokenizer\n",
    "from tokenizers.pre_tokenizers import Whitespace\n",
    "from tokenizers.models import BPE, WordPiece\n",
    "from tokenizers.trainers import BpeTrainer, WordPieceTrainer"
   ]
  },
  {
   "cell_type": "code",
   "execution_count": 70,
   "id": "d932e968",
   "metadata": {},
   "outputs": [],
   "source": [
    "tokenizer = Tokenizer(WordPiece(unk_token=\"[UNK]\"))\n",
    "tokenizer.pre_tokenizer = Whitespace()"
   ]
  },
  {
   "cell_type": "code",
   "execution_count": 71,
   "id": "2f097b1a",
   "metadata": {},
   "outputs": [],
   "source": [
    "trainer = WordPieceTrainer(min_frequency=2, special_tokens=[\"[UNK]\", \"[SOS]\", \"[EOS]\", \"[PAD]\"])"
   ]
  },
  {
   "cell_type": "code",
   "execution_count": 72,
   "id": "c9d933b4",
   "metadata": {},
   "outputs": [
    {
     "name": "stdout",
     "output_type": "stream",
     "text": [
      "\n",
      "\n",
      "\n"
     ]
    }
   ],
   "source": [
    "files = [\"train.csv\"]\n",
    "tokenizer.train(files, trainer)"
   ]
  },
  {
   "cell_type": "code",
   "execution_count": 73,
   "id": "bc640086",
   "metadata": {},
   "outputs": [],
   "source": [
    "tokenizer.save(\"train.json\")"
   ]
  },
  {
   "cell_type": "code",
   "execution_count": 74,
   "id": "7c7e5f25",
   "metadata": {},
   "outputs": [
    {
     "data": {
      "text/plain": [
       "7219"
      ]
     },
     "execution_count": 74,
     "metadata": {},
     "output_type": "execute_result"
    }
   ],
   "source": [
    "tokenizer.get_vocab_size()"
   ]
  },
  {
   "cell_type": "code",
   "execution_count": 75,
   "id": "8f89e81d",
   "metadata": {},
   "outputs": [
    {
     "data": {
      "text/plain": [
       "Encoding(num_tokens=11, attributes=[ids, type_ids, tokens, offsets, attention_mask, special_tokens_mask, overflowing])"
      ]
     },
     "execution_count": 75,
     "metadata": {},
     "output_type": "execute_result"
    }
   ],
   "source": [
    "output = tokenizer.encode(\"nishit and karm are doing assignments\")\n",
    "output"
   ]
  },
  {
   "cell_type": "code",
   "execution_count": 76,
   "id": "44c4debb",
   "metadata": {},
   "outputs": [
    {
     "data": {
      "text/plain": [
       "['ni',\n",
       " '##sh',\n",
       " '##it',\n",
       " 'and',\n",
       " 'kar',\n",
       " '##m',\n",
       " 'are',\n",
       " 'do',\n",
       " '##ing',\n",
       " 'assignment',\n",
       " '##s']"
      ]
     },
     "execution_count": 76,
     "metadata": {},
     "output_type": "execute_result"
    }
   ],
   "source": [
    "output.tokens"
   ]
  },
  {
   "cell_type": "markdown",
   "id": "81311919",
   "metadata": {},
   "source": [
    "### Dataloader"
   ]
  },
  {
   "cell_type": "code",
   "execution_count": 4,
   "id": "c213b24d",
   "metadata": {},
   "outputs": [],
   "source": [
    "tokenizer = Tokenizer.from_file(\"train.json\")"
   ]
  },
  {
   "cell_type": "code",
   "execution_count": 5,
   "id": "d8947970",
   "metadata": {},
   "outputs": [],
   "source": [
    "from torch.utils.data import DataLoader, Dataset\n",
    "import pandas as pd\n",
    "import os"
   ]
  },
  {
   "cell_type": "code",
   "execution_count": 54,
   "id": "ab533103",
   "metadata": {},
   "outputs": [],
   "source": [
    "# data_dir = \"/data3/home/karmpatel/dlnlp_assignments/sentiment-classification/dataset\"\n",
    "# split = \"train\"\n",
    "# f_name = f\"ClassificationDataset-{split}0.xlsx\"\n",
    "# label_dict = {\"positive\":0, \"neutral\":1, \"negative\":2}"
   ]
  },
  {
   "cell_type": "code",
   "execution_count": 6,
   "id": "9df7061c",
   "metadata": {},
   "outputs": [],
   "source": [
    "# df = pd.read_excel(os.path.join(data_dir, f_name), names=[\"label\", \"text\"])\n",
    "# df[\"text\"] = df[\"text\"].apply(lambda x: x.lower())\n",
    "# df"
   ]
  },
  {
   "cell_type": "code",
   "execution_count": 7,
   "id": "64a771ea",
   "metadata": {},
   "outputs": [],
   "source": [
    "# id_list = list(df[\"text\"].apply(lambda x: tokenizer.encode(x).ids))"
   ]
  },
  {
   "cell_type": "code",
   "execution_count": 8,
   "id": "84900874",
   "metadata": {},
   "outputs": [],
   "source": [
    "# df[\"y\"] = df[\"label\"].apply(lambda x: label_dict[x])\n",
    "# df"
   ]
  },
  {
   "cell_type": "code",
   "execution_count": 9,
   "id": "808b50df",
   "metadata": {},
   "outputs": [],
   "source": [
    "# labels = df[\"y\"]\n",
    "# labels"
   ]
  },
  {
   "cell_type": "code",
   "execution_count": 73,
   "id": "b9d01ec1",
   "metadata": {},
   "outputs": [
    {
     "name": "stderr",
     "output_type": "stream",
     "text": [
      "/data3/home/karmpatel/miniconda3/envs/torch310/lib/python3.11/site-packages/tqdm/auto.py:21: TqdmWarning: IProgress not found. Please update jupyter and ipywidgets. See https://ipywidgets.readthedocs.io/en/stable/user_install.html\n",
      "  from .autonotebook import tqdm as notebook_tqdm\n"
     ]
    }
   ],
   "source": [
    "import torch\n",
    "from torch.nn.utils.rnn import pad_sequence\n",
    "\n",
    "import torch.nn as nn\n",
    "import torch.nn.functional as F\n",
    "from torchsummary import summary\n",
    "from tqdm import tqdm\n",
    "import matplotlib.pyplot as plt\n",
    "import torchmetrics\n",
    "\n",
    "device = torch.device(\"cuda\")\n",
    "cpu_device = torch.device(\"cpu\")"
   ]
  },
  {
   "cell_type": "code",
   "execution_count": 15,
   "id": "cd06bfd3",
   "metadata": {},
   "outputs": [],
   "source": [
    "class TextClassification(Dataset):\n",
    "    def __init__(self, data_dir = \"/data3/home/karmpatel/dlnlp_assignments/sentiment-classification/dataset\"\n",
    "                ,split = \"train\",\n",
    "                label_dict = {\"positive\":0, \"neutral\":1, \"negative\":2}):\n",
    "        \n",
    "        f_name = f\"ClassificationDataset-{split}0.xlsx\"\n",
    "        self.tokenizer = Tokenizer.from_file(\"train.json\")\n",
    "        df = pd.read_excel(os.path.join(data_dir, f_name), names=[\"label\", \"text\"])\n",
    "        df[\"text\"] = df[\"text\"].apply(lambda x: x.lower())\n",
    "        self.id_list = list(df[\"text\"].apply(lambda x: torch.Tensor([tokenizer.token_to_id(\"[SOS]\")] + tokenizer.encode(x).ids + [tokenizer.token_to_id(\"[EOS]\")])))  \n",
    "        df[\"y\"] = df[\"label\"].apply(lambda x: label_dict[x])\n",
    "        self.labels = df[\"y\"]\n",
    "    \n",
    "    def __getitem__(self, idx):\n",
    "        return self.id_list[idx], self.labels[idx]   \n",
    "    \n",
    "    def __len__(self):\n",
    "        return len(self.labels)\n",
    "    \n",
    "    def __collate_fn__(self, batch):\n",
    "        batch_tensor = pad_sequence([b[0] for b in batch], padding_value=tokenizer.token_to_id(\"[PAD]\")).to(torch.int64)\n",
    "        return batch_tensor.T, torch.tensor([b[1] for b in batch], dtype=torch.int64)"
   ]
  },
  {
   "cell_type": "code",
   "execution_count": 16,
   "id": "bf2176c5",
   "metadata": {},
   "outputs": [],
   "source": [
    "train_dataset = TextClassification()"
   ]
  },
  {
   "cell_type": "code",
   "execution_count": 24,
   "id": "6275305d",
   "metadata": {
    "scrolled": false
   },
   "outputs": [],
   "source": [
    "B = 512\n",
    "train_dataloader = DataLoader(train_dataset, batch_size=512, collate_fn=train_dataset.__collate_fn__)\n",
    "op = next(iter(train_dataloader))"
   ]
  },
  {
   "cell_type": "code",
   "execution_count": 25,
   "id": "bcb00b61",
   "metadata": {},
   "outputs": [
    {
     "data": {
      "text/plain": [
       "(torch.Size([512, 69]), torch.Size([512]))"
      ]
     },
     "execution_count": 25,
     "metadata": {},
     "output_type": "execute_result"
    }
   ],
   "source": [
    "op[0].shape, op[1].shape"
   ]
  },
  {
   "cell_type": "code",
   "execution_count": 120,
   "id": "664bf37d",
   "metadata": {},
   "outputs": [],
   "source": [
    "class Model(nn.Module):\n",
    "    def __init__(self, vocab_size, hidden_size=64, emb_size=128, n_classes=3):\n",
    "        super().__init__()\n",
    "        self.embeddings = nn.Embedding(vocab_size, emb_size)\n",
    "        self.gru = nn.GRU(emb_size, hidden_size, batch_first=True)\n",
    "        self.classifier = nn.Linear(hidden_size, n_classes)\n",
    "        self.relu = nn.ReLU()\n",
    "    \n",
    "    def forward(self, x):\n",
    "#         x = nn.Dropout(0.2)(self.embeddings(x))\n",
    "        x = self.relu(self.embeddings(x))\n",
    "        op, h_last = self.gru(x) # (N, L, H), (1, N ,H)\n",
    "        h_last = self.relu(h_last)\n",
    "        logits = self.classifier(h_last.squeeze()) # (N, C)\n",
    "        return logits\n",
    "    \n",
    "    def predict(self, logits):\n",
    "#         y_hat = torch.argmax(logits, dim=-1)\n",
    "        y_prob, y_hat = torch.max(torch.softmax(logits, dim=-1), dim=-1)\n",
    "        return y_hat, y_prob"
   ]
  },
  {
   "cell_type": "code",
   "execution_count": 121,
   "id": "ba0c66e3",
   "metadata": {},
   "outputs": [],
   "source": [
    "val_dataset = TextClassification(split=\"valid\")\n",
    "val_dataloader = DataLoader(val_dataset, batch_size=B, collate_fn=val_dataset.__collate_fn__)"
   ]
  },
  {
   "cell_type": "code",
   "execution_count": 122,
   "id": "b4948515",
   "metadata": {},
   "outputs": [],
   "source": [
    "# logits  = model(op[0])\n",
    "# logits.shape"
   ]
  },
  {
   "cell_type": "code",
   "execution_count": 123,
   "id": "898e4279",
   "metadata": {},
   "outputs": [],
   "source": [
    "# y, p = model.predict(logits)\n",
    "# y, p"
   ]
  },
  {
   "cell_type": "code",
   "execution_count": 124,
   "id": "e0b1f8c8",
   "metadata": {},
   "outputs": [],
   "source": [
    "model = Model(train_dataset.tokenizer.get_vocab_size()).to(device)\n",
    "loss_fn = nn.CrossEntropyLoss(weight=torch.tensor([1,1,5], dtype=torch.float32).to(device))\n",
    "opt  = torch.optim.Adam(model.parameters(), lr = 0.00001)"
   ]
  },
  {
   "cell_type": "code",
   "execution_count": 125,
   "id": "9990e363",
   "metadata": {},
   "outputs": [
    {
     "name": "stderr",
     "output_type": "stream",
     "text": [
      "150/150 acc: 0.6464226245880127 loss:1.0 val loss: 1.0: 100%|██████████████████████| 150/150 [00:15<00:00,  9.68it/s]\n"
     ]
    }
   ],
   "source": [
    "E = 150\n",
    "tq_obj = tqdm(range(E))\n",
    "train_losses, val_losses = [], []\n",
    "for i,epoch in enumerate(tq_obj):\n",
    "    model.train()\n",
    "    for x,y in train_dataloader:\n",
    "        x, y = x.to(device), y.to(device)\n",
    "        opt.zero_grad()\n",
    "        logits = model(x)\n",
    "        loss = loss_fn(logits, y)\n",
    "        loss.backward()\n",
    "        opt.step()\n",
    "#         print(loss)\n",
    "        tq_obj.set_description_str(f\"{i+1}/{E} loss:{loss}\")\n",
    "        train_losses.append(loss.detach().to(cpu_device))\n",
    "    \n",
    "    pred, target = [], [] \n",
    "    with torch.no_grad():\n",
    "        model.eval()\n",
    "\n",
    "        for x,y in val_dataloader:\n",
    "            x, y = x.to(device), y.to(device)\n",
    "            logits = model(x)\n",
    "            val_loss = loss_fn(logits, y)\n",
    "            val_losses.append(val_loss.detach().to(cpu_device))\n",
    "            y_hat, p = model.predict(logits)\n",
    "            pred.extend(y_hat.detach().to(cpu_device))\n",
    "            target.extend(y.detach().to(cpu_device))\n",
    "        \n",
    "        pred = torch.tensor(pred)\n",
    "        target = torch.tensor(target)\n",
    "        acc = torchmetrics.Accuracy(task=\"multiclass\", num_classes=3)(pred, target)\n",
    "        \n",
    "    tq_obj.set_description_str(f\"{i+1}/{E} acc: {acc} loss:{torch.round(loss)} val loss: {torch.round(val_loss)}\")"
   ]
  },
  {
   "cell_type": "code",
   "execution_count": 126,
   "id": "3e640e73",
   "metadata": {},
   "outputs": [
    {
     "data": {
      "text/plain": [
       "tensor([[  0, 387,   0],\n",
       "        [  0, 777,   0],\n",
       "        [  0,  38,   0]])"
      ]
     },
     "execution_count": 126,
     "metadata": {},
     "output_type": "execute_result"
    }
   ],
   "source": [
    "torchmetrics.ConfusionMatrix(task=\"multiclass\", num_classes=3)(pred, target)"
   ]
  },
  {
   "cell_type": "code",
   "execution_count": 127,
   "id": "7479d3e7",
   "metadata": {},
   "outputs": [
    {
     "data": {
      "text/plain": [
       "[<matplotlib.lines.Line2D at 0x7fc48754a490>]"
      ]
     },
     "execution_count": 127,
     "metadata": {},
     "output_type": "execute_result"
    },
    {
     "data": {
      "image/png": "[encoded data removed]",
      "text/plain": [
       "<Figure size 640x480 with 1 Axes>"
      ]
     },
     "metadata": {},
     "output_type": "display_data"
    }
   ],
   "source": [
    "plt.plot(val_losses)"
   ]
  },
  {
   "cell_type": "code",
   "execution_count": 111,
   "id": "ad976724",
   "metadata": {},
   "outputs": [
    {
     "data": {
      "text/plain": [
       "[<matplotlib.lines.Line2D at 0x7fc487e44c10>]"
      ]
     },
     "execution_count": 111,
     "metadata": {},
     "output_type": "execute_result"
    },
    {
     "data": {
      "image/png": "[encoded data removed]",
      "text/plain": [
       "<Figure size 640x480 with 1 Axes>"
      ]
     },
     "metadata": {},
     "output_type": "display_data"
    }
   ],
   "source": [
    "plt.plot(train_losses)"
   ]
  },
  {
   "cell_type": "code",
   "execution_count": 180,
   "id": "440b83cf",
   "metadata": {},
   "outputs": [
    {
     "ename": "RuntimeError",
     "evalue": "Expected tensor for argument #1 'indices' to have one of the following scalar types: Long, Int; but got torch.FloatTensor instead (while checking arguments for embedding)",
     "output_type": "error",
     "traceback": [
      "\u001b[0;31m---------------------------------------------------------------------------\u001b[0m",
      "\u001b[0;31mRuntimeError\u001b[0m                              Traceback (most recent call last)",
      "Cell \u001b[0;32mIn[180], line 1\u001b[0m\n\u001b[0;32m----> 1\u001b[0m summary(model, input_size\u001b[38;5;241m=\u001b[39mop[\u001b[38;5;241m0\u001b[39m]\u001b[38;5;241m.\u001b[39mshape, device\u001b[38;5;241m=\u001b[39m\u001b[38;5;124m\"\u001b[39m\u001b[38;5;124mcpu\u001b[39m\u001b[38;5;124m\"\u001b[39m)\n",
      "File \u001b[0;32m~/miniconda3/envs/torch310/lib/python3.11/site-packages/torchsummary/torchsummary.py:72\u001b[0m, in \u001b[0;36msummary\u001b[0;34m(model, input_size, batch_size, device)\u001b[0m\n\u001b[1;32m     68\u001b[0m model\u001b[38;5;241m.\u001b[39mapply(register_hook)\n\u001b[1;32m     70\u001b[0m \u001b[38;5;66;03m# make a forward pass\u001b[39;00m\n\u001b[1;32m     71\u001b[0m \u001b[38;5;66;03m# print(x.shape)\u001b[39;00m\n\u001b[0;32m---> 72\u001b[0m model(\u001b[38;5;241m*\u001b[39mx)\n\u001b[1;32m     74\u001b[0m \u001b[38;5;66;03m# remove these hooks\u001b[39;00m\n\u001b[1;32m     75\u001b[0m \u001b[38;5;28;01mfor\u001b[39;00m h \u001b[38;5;129;01min\u001b[39;00m hooks:\n",
      "File \u001b[0;32m~/miniconda3/envs/torch310/lib/python3.11/site-packages/torch/nn/modules/module.py:1501\u001b[0m, in \u001b[0;36mModule._call_impl\u001b[0;34m(self, *args, **kwargs)\u001b[0m\n\u001b[1;32m   1496\u001b[0m \u001b[38;5;66;03m# If we don't have any hooks, we want to skip the rest of the logic in\u001b[39;00m\n\u001b[1;32m   1497\u001b[0m \u001b[38;5;66;03m# this function, and just call forward.\u001b[39;00m\n\u001b[1;32m   1498\u001b[0m \u001b[38;5;28;01mif\u001b[39;00m \u001b[38;5;129;01mnot\u001b[39;00m (\u001b[38;5;28mself\u001b[39m\u001b[38;5;241m.\u001b[39m_backward_hooks \u001b[38;5;129;01mor\u001b[39;00m \u001b[38;5;28mself\u001b[39m\u001b[38;5;241m.\u001b[39m_backward_pre_hooks \u001b[38;5;129;01mor\u001b[39;00m \u001b[38;5;28mself\u001b[39m\u001b[38;5;241m.\u001b[39m_forward_hooks \u001b[38;5;129;01mor\u001b[39;00m \u001b[38;5;28mself\u001b[39m\u001b[38;5;241m.\u001b[39m_forward_pre_hooks\n\u001b[1;32m   1499\u001b[0m         \u001b[38;5;129;01mor\u001b[39;00m _global_backward_pre_hooks \u001b[38;5;129;01mor\u001b[39;00m _global_backward_hooks\n\u001b[1;32m   1500\u001b[0m         \u001b[38;5;129;01mor\u001b[39;00m _global_forward_hooks \u001b[38;5;129;01mor\u001b[39;00m _global_forward_pre_hooks):\n\u001b[0;32m-> 1501\u001b[0m     \u001b[38;5;28;01mreturn\u001b[39;00m forward_call(\u001b[38;5;241m*\u001b[39margs, \u001b[38;5;241m*\u001b[39m\u001b[38;5;241m*\u001b[39mkwargs)\n\u001b[1;32m   1502\u001b[0m \u001b[38;5;66;03m# Do not call functions when jit is used\u001b[39;00m\n\u001b[1;32m   1503\u001b[0m full_backward_hooks, non_full_backward_hooks \u001b[38;5;241m=\u001b[39m [], []\n",
      "Cell \u001b[0;32mIn[176], line 9\u001b[0m, in \u001b[0;36mModel.forward\u001b[0;34m(self, x)\u001b[0m\n\u001b[1;32m      8\u001b[0m \u001b[38;5;28;01mdef\u001b[39;00m \u001b[38;5;21mforward\u001b[39m(\u001b[38;5;28mself\u001b[39m, x):\n\u001b[0;32m----> 9\u001b[0m     x \u001b[38;5;241m=\u001b[39m \u001b[38;5;28mself\u001b[39m\u001b[38;5;241m.\u001b[39membeddings(x)\n\u001b[1;32m     10\u001b[0m     op, h_last \u001b[38;5;241m=\u001b[39m \u001b[38;5;28mself\u001b[39m\u001b[38;5;241m.\u001b[39mgru(x) \u001b[38;5;66;03m# (N, L, H), (1, N ,H)\u001b[39;00m\n\u001b[1;32m     11\u001b[0m     logits \u001b[38;5;241m=\u001b[39m \u001b[38;5;28mself\u001b[39m\u001b[38;5;241m.\u001b[39mclassifier(h_last\u001b[38;5;241m.\u001b[39msqueeze()) \u001b[38;5;66;03m# (N, C)\u001b[39;00m\n",
      "File \u001b[0;32m~/miniconda3/envs/torch310/lib/python3.11/site-packages/torch/nn/modules/module.py:1538\u001b[0m, in \u001b[0;36mModule._call_impl\u001b[0;34m(self, *args, **kwargs)\u001b[0m\n\u001b[1;32m   1535\u001b[0m     bw_hook \u001b[38;5;241m=\u001b[39m hooks\u001b[38;5;241m.\u001b[39mBackwardHook(\u001b[38;5;28mself\u001b[39m, full_backward_hooks, backward_pre_hooks)\n\u001b[1;32m   1536\u001b[0m     args \u001b[38;5;241m=\u001b[39m bw_hook\u001b[38;5;241m.\u001b[39msetup_input_hook(args)\n\u001b[0;32m-> 1538\u001b[0m result \u001b[38;5;241m=\u001b[39m forward_call(\u001b[38;5;241m*\u001b[39margs, \u001b[38;5;241m*\u001b[39m\u001b[38;5;241m*\u001b[39mkwargs)\n\u001b[1;32m   1539\u001b[0m \u001b[38;5;28;01mif\u001b[39;00m _global_forward_hooks \u001b[38;5;129;01mor\u001b[39;00m \u001b[38;5;28mself\u001b[39m\u001b[38;5;241m.\u001b[39m_forward_hooks:\n\u001b[1;32m   1540\u001b[0m     \u001b[38;5;28;01mfor\u001b[39;00m hook_id, hook \u001b[38;5;129;01min\u001b[39;00m (\n\u001b[1;32m   1541\u001b[0m         \u001b[38;5;241m*\u001b[39m_global_forward_hooks\u001b[38;5;241m.\u001b[39mitems(),\n\u001b[1;32m   1542\u001b[0m         \u001b[38;5;241m*\u001b[39m\u001b[38;5;28mself\u001b[39m\u001b[38;5;241m.\u001b[39m_forward_hooks\u001b[38;5;241m.\u001b[39mitems(),\n\u001b[1;32m   1543\u001b[0m     ):\n",
      "File \u001b[0;32m~/miniconda3/envs/torch310/lib/python3.11/site-packages/torch/nn/modules/sparse.py:162\u001b[0m, in \u001b[0;36mEmbedding.forward\u001b[0;34m(self, input)\u001b[0m\n\u001b[1;32m    161\u001b[0m \u001b[38;5;28;01mdef\u001b[39;00m \u001b[38;5;21mforward\u001b[39m(\u001b[38;5;28mself\u001b[39m, \u001b[38;5;28minput\u001b[39m: Tensor) \u001b[38;5;241m-\u001b[39m\u001b[38;5;241m>\u001b[39m Tensor:\n\u001b[0;32m--> 162\u001b[0m     \u001b[38;5;28;01mreturn\u001b[39;00m F\u001b[38;5;241m.\u001b[39membedding(\n\u001b[1;32m    163\u001b[0m         \u001b[38;5;28minput\u001b[39m, \u001b[38;5;28mself\u001b[39m\u001b[38;5;241m.\u001b[39mweight, \u001b[38;5;28mself\u001b[39m\u001b[38;5;241m.\u001b[39mpadding_idx, \u001b[38;5;28mself\u001b[39m\u001b[38;5;241m.\u001b[39mmax_norm,\n\u001b[1;32m    164\u001b[0m         \u001b[38;5;28mself\u001b[39m\u001b[38;5;241m.\u001b[39mnorm_type, \u001b[38;5;28mself\u001b[39m\u001b[38;5;241m.\u001b[39mscale_grad_by_freq, \u001b[38;5;28mself\u001b[39m\u001b[38;5;241m.\u001b[39msparse)\n",
      "File \u001b[0;32m~/miniconda3/envs/torch310/lib/python3.11/site-packages/torch/nn/functional.py:2210\u001b[0m, in \u001b[0;36membedding\u001b[0;34m(input, weight, padding_idx, max_norm, norm_type, scale_grad_by_freq, sparse)\u001b[0m\n\u001b[1;32m   2204\u001b[0m     \u001b[38;5;66;03m# Note [embedding_renorm set_grad_enabled]\u001b[39;00m\n\u001b[1;32m   2205\u001b[0m     \u001b[38;5;66;03m# XXX: equivalent to\u001b[39;00m\n\u001b[1;32m   2206\u001b[0m     \u001b[38;5;66;03m# with torch.no_grad():\u001b[39;00m\n\u001b[1;32m   2207\u001b[0m     \u001b[38;5;66;03m#   torch.embedding_renorm_\u001b[39;00m\n\u001b[1;32m   2208\u001b[0m     \u001b[38;5;66;03m# remove once script supports set_grad_enabled\u001b[39;00m\n\u001b[1;32m   2209\u001b[0m     _no_grad_embedding_renorm_(weight, \u001b[38;5;28minput\u001b[39m, max_norm, norm_type)\n\u001b[0;32m-> 2210\u001b[0m \u001b[38;5;28;01mreturn\u001b[39;00m torch\u001b[38;5;241m.\u001b[39membedding(weight, \u001b[38;5;28minput\u001b[39m, padding_idx, scale_grad_by_freq, sparse)\n",
      "\u001b[0;31mRuntimeError\u001b[0m: Expected tensor for argument #1 'indices' to have one of the following scalar types: Long, Int; but got torch.FloatTensor instead (while checking arguments for embedding)"
     ]
    }
   ],
   "source": [
    "# summary(model, input_size=op[0].shape, device=\"cpu\")"
   ]
  },
  {
   "cell_type": "code",
   "execution_count": null,
   "id": "1ae57948",
   "metadata": {},
   "outputs": [],
   "source": []
  }
 ],
 "metadata": {
  "kernelspec": {
   "display_name": "Python [conda env:torch310]",
   "language": "python",
   "name": "conda-env-torch310-py"
  },
  "language_info": {
   "codemirror_mode": {
    "name": "ipython",
    "version": 3
   },
   "file_extension": ".py",
   "mimetype": "text/x-python",
   "name": "python",
   "nbconvert_exporter": "python",
   "pygments_lexer": "ipython3",
   "version": "3.11.5"
  }
 },
 "nbformat": 4,
 "nbformat_minor": 5
}
